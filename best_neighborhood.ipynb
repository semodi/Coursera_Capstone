{
 "cells": [
  {
   "cell_type": "code",
   "execution_count": 27,
   "metadata": {},
   "outputs": [
    {
     "name": "stdout",
     "output_type": "stream",
     "text": [
      "Populating the interactive namespace from numpy and matplotlib\n"
     ]
    }
   ],
   "source": [
    "import pandas as pd\n",
    "import numpy as np\n",
    "%pylab inline\n",
    "from sklearn.preprocessing import MinMaxScaler as StandardScaler\n",
    "import seaborn as sns\n",
    "pyplot.style.use('fivethirtyeight')"
   ]
  },
  {
   "cell_type": "code",
   "execution_count": 53,
   "metadata": {},
   "outputs": [],
   "source": [
    "too = pd.read_csv('311.csv',index_col=0).set_index('Neighborhood',drop=True)\n",
    "rent = pd.read_csv('rent.csv',index_col=0)\n",
    "subway = pd.read_csv('subway.csv',index_col=0)\n",
    "crime = pd.read_csv('crime.csv',index_col=0).set_index('Neighborhood',drop=True)\n",
    "venues = pd.read_csv('venues.csv').set_index('Neighborhood', drop = True)"
   ]
  },
  {
   "cell_type": "code",
   "execution_count": 54,
   "metadata": {},
   "outputs": [],
   "source": [
    "venues['venue_count'] = venues['venue_count'].max() - venues['venue_count']\n",
    "venues['category_count'] = venues['category_count'].max() - venues['category_count']"
   ]
  },
  {
   "cell_type": "code",
   "execution_count": 55,
   "metadata": {},
   "outputs": [],
   "source": [
    "subway['subway_dist'] = (subway.subway_dist * 0.5/0.01).round(2) #convert to miles"
   ]
  },
  {
   "cell_type": "code",
   "execution_count": 56,
   "metadata": {},
   "outputs": [],
   "source": [
    "lat_conv = 0.69/0.01\n",
    "long_conv = 0.52/0.01\n",
    "times_square= [40.7580, -73.9855]"
   ]
  },
  {
   "cell_type": "code",
   "execution_count": 57,
   "metadata": {},
   "outputs": [
    {
     "data": {
      "text/plain": [
       "[40.758, -73.9855]"
      ]
     },
     "execution_count": 57,
     "metadata": {},
     "output_type": "execute_result"
    }
   ],
   "source": [
    "times_square"
   ]
  },
  {
   "cell_type": "code",
   "execution_count": 58,
   "metadata": {},
   "outputs": [],
   "source": [
    "too['dist_timessq'] = np.sqrt(((too.Longitude - times_square[1])*long_conv)**2 + ((too.Latitude - times_square[0])*lat_conv)**2).round(1)"
   ]
  },
  {
   "cell_type": "code",
   "execution_count": 59,
   "metadata": {},
   "outputs": [],
   "source": [
    "rent['imputed'] = rent['imputed'].astype(int)"
   ]
  },
  {
   "cell_type": "code",
   "execution_count": 60,
   "metadata": {},
   "outputs": [],
   "source": [
    "too = too[too.Borough != 'Staten Island']\n",
    "frames = [too,rent,subway,crime, too,venues]\n",
    "fields = ['Calls','imputed','subway_dist','Arrests','dist_timessq','venue_count']\n",
    "\n",
    "# for frame, field in zip(frames,fields):\n",
    "#     frame[field] = StandardScaler().fit_transform(frame[[field]])\n",
    "too = too.reset_index().groupby(['Neighborhood']).mean()"
   ]
  },
  {
   "cell_type": "code",
   "execution_count": 61,
   "metadata": {},
   "outputs": [],
   "source": [
    "merged = frames[0][[fields[0], 'Borough']]\n",
    "# merged = merged.reset_index().groupby(['Neighborhood']).mean()\n",
    "for frame,field in zip(frames[1:],fields[1:]):\n",
    "    merged = pd.merge(merged, frame[field].to_frame(), left_index=True, right_index=True, how='inner')"
   ]
  },
  {
   "cell_type": "code",
   "execution_count": 62,
   "metadata": {},
   "outputs": [],
   "source": [
    "merged = merged.reset_index().groupby(['Neighborhood','Borough']).mean().reset_index().set_index('Neighborhood')"
   ]
  },
  {
   "cell_type": "code",
   "execution_count": 63,
   "metadata": {},
   "outputs": [],
   "source": [
    "merged.columns = ['Borough', '311 Calls','Rent 1BD','Average Distance to Subway (miles)','Crime','Dist. from Midtown (miles)','Venue density']"
   ]
  },
  {
   "cell_type": "code",
   "execution_count": 64,
   "metadata": {},
   "outputs": [],
   "source": [
    "merged = merged.drop('311 Calls',axis=1)"
   ]
  },
  {
   "cell_type": "code",
   "execution_count": 65,
   "metadata": {},
   "outputs": [],
   "source": [
    "def is_pareto_efficient(costs):\n",
    "    is_efficient = np.ones(costs.shape[0], dtype = bool)\n",
    "    for i, c in enumerate(costs):\n",
    "        is_efficient[i] = np.all(np.any(costs[:i]>c, axis=1)) and np.all(np.any(costs[i+1:]>c, axis=1))\n",
    "    return is_efficient"
   ]
  },
  {
   "cell_type": "code",
   "execution_count": 66,
   "metadata": {},
   "outputs": [],
   "source": [
    "fields=['Average Distance to Subway (miles)','Rent 1BD', 'Crime']"
   ]
  },
  {
   "cell_type": "code",
   "execution_count": 67,
   "metadata": {},
   "outputs": [],
   "source": [
    "pareto_efficient_2 = is_pareto_efficient(merged[fields].values)\n",
    "pareto_efficient = is_pareto_efficient(merged.values)"
   ]
  },
  {
   "cell_type": "code",
   "execution_count": 70,
   "metadata": {},
   "outputs": [],
   "source": [
    "merged.round(2).to_csv('merged.csv')"
   ]
  },
  {
   "cell_type": "code",
   "execution_count": 43,
   "metadata": {},
   "outputs": [
    {
     "data": {
      "application/vnd.plotly.v1+json": {
       "config": {
        "plotlyServerURL": "https://plot.ly"
       },
       "data": [
        {
         "hovertemplate": "<b>%{hovertext}</b><br><br>Borough=Bronx<br>symbol=Not PE<br>Average Distance to Subway (miles)=%{x}<br>Rent 1BD=%{y}<extra></extra>",
         "hovertext": [
          "Allerton",
          "Baychester",
          "Castle Hill",
          "Claremont Village",
          "Co-op City",
          "Concourse Village",
          "Edenwald",
          "Fieldston",
          "Hunts Point",
          "Kingsbridge",
          "Longwood",
          "Morris Heights",
          "Morrisania",
          "Pelham Gardens",
          "Schuylerville",
          "Tremont",
          "University Heights",
          "Westchester Square",
          "Woodlawn"
         ],
         "legendgroup": "Bronx, Not PE",
         "marker": {
          "color": "#636efa",
          "opacity": 0.8,
          "symbol": "circle"
         },
         "mode": "markers",
         "name": "Bronx, Not PE",
         "showlegend": true,
         "type": "scatter",
         "x": [
          0.14,
          0.19,
          0.53,
          0.18,
          0.36,
          0.13,
          0.19,
          0.22,
          0.37,
          0.13,
          0.1,
          0.17,
          0.23,
          0.22,
          0.26,
          0.27,
          0.14,
          0.12,
          0.23
         ],
         "xaxis": "x",
         "y": [
          1545,
          1599,
          1550,
          1651,
          1599,
          1739,
          1555,
          1745,
          1734,
          1636,
          1734,
          1722,
          1660,
          1599,
          1651,
          1600,
          1570,
          1651,
          1650
         ],
         "yaxis": "y"
        },
        {
         "hovertemplate": "<b>%{hovertext}</b><br><br>Borough=Bronx<br>symbol=PE<br>Average Distance to Subway (miles)=%{x}<br>Rent 1BD=%{y}<extra></extra>",
         "hovertext": [
          "Belmont",
          "Bronx Park",
          "Bronxdale",
          "City Island",
          "Clason Point",
          "Concourse",
          "Country Club",
          "Crotona Park",
          "East Morrisania",
          "Eastchester",
          "Ferry Point Park",
          "Fordham",
          "Highbridge",
          "Melrose",
          "Morris Park",
          "Mott Haven",
          "Mount Eden",
          "Mount Hope",
          "North Riverdale",
          "Norwood",
          "Olinville",
          "Parkchester",
          "Pelham Bay",
          "Pelham Bay Park",
          "Port Morris",
          "Rikers Island",
          "Riverdale",
          "Soundview",
          "Spuyten Duyvil",
          "Throgs Neck",
          "Unionport",
          "Van Cortlandt Park",
          "Van Nest",
          "Wakefield",
          "West Farms",
          "Williamsbridge"
         ],
         "legendgroup": "Bronx, PE",
         "marker": {
          "color": "#636efa",
          "opacity": 0.8,
          "symbol": "diamond"
         },
         "mode": "markers",
         "name": "Bronx, PE",
         "showlegend": true,
         "type": "scatter",
         "x": [
          0.27,
          0.21,
          0.07,
          1.04,
          0.63,
          0.08,
          0.36,
          0.21,
          0.1,
          0.21,
          0.88,
          0.11,
          0.17,
          0.15,
          0.23,
          0.07,
          0.06,
          0.07,
          0.61,
          0.1,
          0.08,
          0.13,
          0.13,
          0.6400000000000001,
          0.16,
          0.82,
          0.41,
          0.18,
          0.27,
          0.88,
          0.21,
          0.36,
          0.18,
          0.16,
          0.09,
          0.19
         ],
         "xaxis": "x",
         "y": [
          1548,
          1545,
          1595,
          1599,
          1545,
          1608,
          1651,
          1563,
          1545,
          1599,
          1595,
          1538,
          1659,
          1733,
          1630,
          2175,
          1740,
          1595,
          1745,
          1558,
          1555,
          1545,
          1675,
          1599,
          1987,
          1898,
          1879,
          1505,
          1737,
          1595,
          1595,
          1740,
          1599,
          1552,
          1563,
          1475
         ],
         "yaxis": "y"
        },
        {
         "hovertemplate": "<b>%{hovertext}</b><br><br>Borough=Queens<br>symbol=Not PE<br>Average Distance to Subway (miles)=%{x}<br>Rent 1BD=%{y}<extra></extra>",
         "hovertext": [
          "Alley Pond Park",
          "Arverne",
          "Bayside",
          "Bellerose",
          "Briarwood",
          "Cambria Heights",
          "Corona",
          "Cunningham Park",
          "Douglaston",
          "Edgemere",
          "Elmhurst",
          "Far Rockaway",
          "Floral Park",
          "Flushing",
          "Fresh Meadows",
          "Glen Oaks",
          "Hollis",
          "Hollis Hills",
          "Holliswood",
          "Jackson Heights",
          "Jamaica",
          "Jamaica Estates",
          "Jamaica Hills",
          "Kew Gardens Hills",
          "Laurelton",
          "Long Island City",
          "Neponsit",
          "Ozone Park",
          "Queens Village",
          "Richmond Hill",
          "Ridgewood",
          "Rockaway Beach",
          "Rosedale",
          "South Ozone Park",
          "Springfield Gardens",
          "St. Albans"
         ],
         "legendgroup": "Queens, Not PE",
         "marker": {
          "color": "#EF553B",
          "opacity": 0.8,
          "symbol": "circle"
         },
         "mode": "markers",
         "name": "Queens, Not PE",
         "showlegend": true,
         "type": "scatter",
         "x": [
          1.6,
          0.14,
          1.4,
          1.66,
          0.12,
          1.38,
          0.23,
          0.8,
          1.99,
          0.18,
          0.16,
          0.24,
          2.19,
          0.58,
          0.86,
          2.19,
          0.41,
          1.01,
          0.44,
          0.13,
          0.59,
          0.29,
          0.17,
          0.44,
          1.63,
          0.16,
          0.75,
          0.13,
          1.08,
          0.15,
          0.14,
          0.13,
          1.82,
          0.52,
          1.54,
          0.77
         ],
         "xaxis": "x",
         "y": [
          1771,
          1771,
          1871,
          1771,
          1710,
          1908,
          1889,
          1771,
          1803,
          1771,
          1850,
          1739,
          1771,
          1787,
          1771,
          1771,
          1945,
          1771,
          1746,
          1829,
          2157,
          1891,
          1737,
          1800,
          1908,
          3218,
          1734,
          1740,
          1945,
          1624,
          1921,
          1771,
          1898,
          1908,
          1908,
          1908
         ],
         "yaxis": "y"
        },
        {
         "hovertemplate": "<b>%{hovertext}</b><br><br>Borough=Queens<br>symbol=PE<br>Average Distance to Subway (miles)=%{x}<br>Rent 1BD=%{y}<extra></extra>",
         "hovertext": [
          "Astoria",
          "Bay Terrace",
          "Bayswater",
          "Belle Harbor",
          "Breezy Point",
          "Broad Channel",
          "College Point",
          "Ditmars Steinway",
          "East Elmhurst",
          "Flushing Meadows Corona Park",
          "Forest Hills",
          "Forest Park",
          "Glendale",
          "Howard Beach",
          "Kew Gardens",
          "LaGuardia Airport",
          "Little Neck",
          "Maspeth",
          "Middle Village",
          "Rego Park",
          "Rockaway Park",
          "Sunnyside",
          "Whitestone",
          "Woodhaven",
          "Woodside"
         ],
         "legendgroup": "Queens, PE",
         "marker": {
          "color": "#EF553B",
          "opacity": 0.8,
          "symbol": "diamond"
         },
         "mode": "markers",
         "name": "Queens, PE",
         "showlegend": true,
         "type": "scatter",
         "x": [
          0.16,
          1.47,
          0.24,
          0.43,
          1.3,
          0.5099999999999938,
          0.82,
          0.33,
          0.45,
          0.26,
          0.2,
          0.24,
          0.34,
          0.37999999999999995,
          0.14,
          0.79,
          2.26,
          0.45,
          0.32,
          0.18,
          0.12,
          0.17,
          1.05,
          0.13,
          0.1
         ],
         "xaxis": "x",
         "y": [
          1957,
          1735,
          1739,
          1734,
          1734,
          1722,
          1734,
          1987,
          1771,
          1914,
          1950,
          1745,
          1707,
          1728,
          1809,
          1914,
          1771,
          1654,
          1708,
          1902,
          1734,
          1910,
          1735,
          1741,
          1783
         ],
         "yaxis": "y"
        },
        {
         "hovertemplate": "<b>%{hovertext}</b><br><br>Borough=Brooklyn<br>symbol=Not PE<br>Average Distance to Subway (miles)=%{x}<br>Rent 1BD=%{y}<extra></extra>",
         "hovertext": [
          "Bath Beach",
          "Bergen Beach",
          "Brighton Beach",
          "Brownsville",
          "Canarsie",
          "Coney Island",
          "Crown Heights",
          "Cypress Hills",
          "East Flatbush",
          "East New York",
          "Flatbush",
          "Flatlands",
          "Gravesend",
          "Manhattan Beach",
          "Marine Park",
          "Midwood",
          "Mill Basin",
          "Prospect-Lefferts Gardens",
          "Sea Gate",
          "Sheepshead Bay",
          "Sunset Park"
         ],
         "legendgroup": "Brooklyn, Not PE",
         "marker": {
          "color": "#00cc96",
          "opacity": 0.8,
          "symbol": "circle"
         },
         "mode": "markers",
         "name": "Brooklyn, Not PE",
         "showlegend": true,
         "type": "scatter",
         "x": [
          0.21,
          0.97,
          0.08,
          0.12,
          0.38,
          0.35,
          0.11,
          0.08,
          0.31,
          0.32,
          0.1,
          0.55,
          0.13,
          0.36,
          0.7800000000000001,
          0.15,
          1.1,
          0.13,
          0.67,
          0.26,
          0.14
         ],
         "xaxis": "x",
         "y": [
          1614,
          1740,
          1895,
          1588,
          1660,
          2158,
          2077,
          1735,
          1749,
          1735,
          1855,
          1745,
          1661,
          1945,
          1740,
          1708,
          1740,
          2052,
          1914,
          1700,
          1706
         ],
         "yaxis": "y"
        },
        {
         "hovertemplate": "<b>%{hovertext}</b><br><br>Borough=Brooklyn<br>symbol=PE<br>Average Distance to Subway (miles)=%{x}<br>Rent 1BD=%{y}<extra></extra>",
         "hovertext": [
          "Bay Ridge",
          "Bedford-Stuyvesant",
          "Bensonhurst",
          "Boerum Hill",
          "Borough Park",
          "Brooklyn Heights",
          "Bushwick",
          "Carroll Gardens",
          "Clinton Hill",
          "Cobble Hill",
          "Columbia St",
          "DUMBO",
          "Downtown Brooklyn",
          "Dyker Heights",
          "Fort Greene",
          "Fort Hamilton",
          "Gerritsen Beach",
          "Gowanus",
          "Green-Wood Cemetery",
          "Greenpoint",
          "Kensington",
          "Navy Yard",
          "Park Slope",
          "Plum Beach",
          "Prospect Heights",
          "Prospect Park",
          "Red Hook",
          "South Slope",
          "Vinegar Hill",
          "Williamsburg",
          "Windsor Terrace"
         ],
         "legendgroup": "Brooklyn, PE",
         "marker": {
          "color": "#00cc96",
          "opacity": 0.8,
          "symbol": "diamond"
         },
         "mode": "markers",
         "name": "Brooklyn, PE",
         "showlegend": true,
         "type": "scatter",
         "x": [
          0.17,
          0.11,
          0.11,
          0.06,
          0.1,
          0.07,
          0.09,
          0.08,
          0.14,
          0.12,
          0.34,
          0.12,
          0.05,
          0.28,
          0.1,
          0.17,
          0.72,
          0.1,
          0.18,
          0.21,
          0.12,
          0.34,
          0.1,
          0.99,
          0.07,
          0.13,
          0.32,
          0.07,
          0.17,
          0.12,
          0.09
         ],
         "xaxis": "x",
         "y": [
          1698,
          2221,
          1584,
          2735,
          1623,
          3299,
          2430,
          2673,
          2722,
          2777,
          2775,
          4107,
          3453,
          1591,
          3048,
          1666,
          1734,
          2931,
          1987,
          2657,
          1795,
          3973,
          2631,
          1734,
          2603,
          2402,
          2456,
          2775,
          4098,
          3040,
          2315
         ],
         "yaxis": "y"
        },
        {
         "hovertemplate": "<b>%{hovertext}</b><br><br>Borough=Manhattan<br>symbol=Not PE<br>Average Distance to Subway (miles)=%{x}<br>Rent 1BD=%{y}<extra></extra>",
         "hovertext": [
          "Chelsea",
          "Civic Center",
          "Financial District",
          "Kips Bay",
          "Lower East Side",
          "Morningside Heights",
          "Roosevelt Island",
          "SoHo",
          "Tribeca",
          "Two Bridges",
          "Upper West Side"
         ],
         "legendgroup": "Manhattan, Not PE",
         "marker": {
          "color": "#ab63fa",
          "opacity": 0.8,
          "symbol": "circle"
         },
         "mode": "markers",
         "name": "Manhattan, Not PE",
         "showlegend": true,
         "type": "scatter",
         "x": [
          0.09,
          0.05,
          0.05,
          0.2,
          0.14,
          0.09,
          0.18,
          0.05,
          0.04,
          0.16,
          0.1
         ],
         "xaxis": "x",
         "y": [
          4273,
          3973,
          4048,
          4098,
          2948,
          3067,
          3101,
          4130,
          4947,
          3049,
          3303
         ],
         "yaxis": "y"
        },
        {
         "hovertemplate": "<b>%{hovertext}</b><br><br>Borough=Manhattan<br>symbol=PE<br>Average Distance to Subway (miles)=%{x}<br>Rent 1BD=%{y}<extra></extra>",
         "hovertext": [
          "Battery Park City",
          "Central Park",
          "Chinatown",
          "East Harlem",
          "East Village",
          "Flatiron District",
          "Gramercy",
          "Greenwich Village",
          "Harlem",
          "Hell's Kitchen",
          "Inwood",
          "Little Italy",
          "Marble Hill",
          "Midtown",
          "Murray Hill",
          "NoHo",
          "Randall's Island",
          "Stuyvesant Town",
          "Theater District",
          "Upper East Side",
          "Washington Heights",
          "West Village"
         ],
         "legendgroup": "Manhattan, PE",
         "marker": {
          "color": "#ab63fa",
          "opacity": 0.8,
          "symbol": "diamond"
         },
         "mode": "markers",
         "name": "Manhattan, PE",
         "showlegend": true,
         "type": "scatter",
         "x": [
          0.12,
          0.12,
          0.08,
          0.12,
          0.17,
          0.04,
          0.08,
          0.07,
          0.07,
          0.12,
          0.12,
          0.05,
          0.09,
          0.07,
          0.12,
          0.03,
          0.41,
          0.16,
          0.03,
          0.1,
          0.08,
          0.09
         ],
         "xaxis": "x",
         "y": [
          3987,
          3101,
          2343,
          2108,
          2874,
          4130,
          4098,
          4011,
          2173,
          4130,
          1809,
          2747,
          1740,
          3853,
          4098,
          4039,
          1987,
          3973,
          4130,
          2917,
          1853,
          3864
         ],
         "yaxis": "y"
        }
       ],
       "layout": {
        "height": 600,
        "legend": {
         "title": {
          "text": "Borough, symbol"
         },
         "tracegroupgap": 0
        },
        "margin": {
         "b": 10,
         "l": 0,
         "r": 0,
         "t": 10
        },
        "paper_bgcolor": "#f0f0f0",
        "plot_bgcolor": "#f0f0f0",
        "scene": {
         "xaxis": {
          "nticks": 4,
          "range": [
           -0.01,
           0.5
          ]
         },
         "yaxis": {
          "nticks": 4,
          "range": [
           -0.01,
           0.5
          ]
         }
        },
        "template": {
         "data": {
          "bar": [
           {
            "error_x": {
             "color": "#2a3f5f"
            },
            "error_y": {
             "color": "#2a3f5f"
            },
            "marker": {
             "line": {
              "color": "#E5ECF6",
              "width": 0.5
             }
            },
            "type": "bar"
           }
          ],
          "barpolar": [
           {
            "marker": {
             "line": {
              "color": "#E5ECF6",
              "width": 0.5
             }
            },
            "type": "barpolar"
           }
          ],
          "carpet": [
           {
            "aaxis": {
             "endlinecolor": "#2a3f5f",
             "gridcolor": "white",
             "linecolor": "white",
             "minorgridcolor": "white",
             "startlinecolor": "#2a3f5f"
            },
            "baxis": {
             "endlinecolor": "#2a3f5f",
             "gridcolor": "white",
             "linecolor": "white",
             "minorgridcolor": "white",
             "startlinecolor": "#2a3f5f"
            },
            "type": "carpet"
           }
          ],
          "choropleth": [
           {
            "colorbar": {
             "outlinewidth": 0,
             "ticks": ""
            },
            "type": "choropleth"
           }
          ],
          "contour": [
           {
            "colorbar": {
             "outlinewidth": 0,
             "ticks": ""
            },
            "colorscale": [
             [
              0,
              "#0d0887"
             ],
             [
              0.1111111111111111,
              "#46039f"
             ],
             [
              0.2222222222222222,
              "#7201a8"
             ],
             [
              0.3333333333333333,
              "#9c179e"
             ],
             [
              0.4444444444444444,
              "#bd3786"
             ],
             [
              0.5555555555555556,
              "#d8576b"
             ],
             [
              0.6666666666666666,
              "#ed7953"
             ],
             [
              0.7777777777777778,
              "#fb9f3a"
             ],
             [
              0.8888888888888888,
              "#fdca26"
             ],
             [
              1,
              "#f0f921"
             ]
            ],
            "type": "contour"
           }
          ],
          "contourcarpet": [
           {
            "colorbar": {
             "outlinewidth": 0,
             "ticks": ""
            },
            "type": "contourcarpet"
           }
          ],
          "heatmap": [
           {
            "colorbar": {
             "outlinewidth": 0,
             "ticks": ""
            },
            "colorscale": [
             [
              0,
              "#0d0887"
             ],
             [
              0.1111111111111111,
              "#46039f"
             ],
             [
              0.2222222222222222,
              "#7201a8"
             ],
             [
              0.3333333333333333,
              "#9c179e"
             ],
             [
              0.4444444444444444,
              "#bd3786"
             ],
             [
              0.5555555555555556,
              "#d8576b"
             ],
             [
              0.6666666666666666,
              "#ed7953"
             ],
             [
              0.7777777777777778,
              "#fb9f3a"
             ],
             [
              0.8888888888888888,
              "#fdca26"
             ],
             [
              1,
              "#f0f921"
             ]
            ],
            "type": "heatmap"
           }
          ],
          "heatmapgl": [
           {
            "colorbar": {
             "outlinewidth": 0,
             "ticks": ""
            },
            "colorscale": [
             [
              0,
              "#0d0887"
             ],
             [
              0.1111111111111111,
              "#46039f"
             ],
             [
              0.2222222222222222,
              "#7201a8"
             ],
             [
              0.3333333333333333,
              "#9c179e"
             ],
             [
              0.4444444444444444,
              "#bd3786"
             ],
             [
              0.5555555555555556,
              "#d8576b"
             ],
             [
              0.6666666666666666,
              "#ed7953"
             ],
             [
              0.7777777777777778,
              "#fb9f3a"
             ],
             [
              0.8888888888888888,
              "#fdca26"
             ],
             [
              1,
              "#f0f921"
             ]
            ],
            "type": "heatmapgl"
           }
          ],
          "histogram": [
           {
            "marker": {
             "colorbar": {
              "outlinewidth": 0,
              "ticks": ""
             }
            },
            "type": "histogram"
           }
          ],
          "histogram2d": [
           {
            "colorbar": {
             "outlinewidth": 0,
             "ticks": ""
            },
            "colorscale": [
             [
              0,
              "#0d0887"
             ],
             [
              0.1111111111111111,
              "#46039f"
             ],
             [
              0.2222222222222222,
              "#7201a8"
             ],
             [
              0.3333333333333333,
              "#9c179e"
             ],
             [
              0.4444444444444444,
              "#bd3786"
             ],
             [
              0.5555555555555556,
              "#d8576b"
             ],
             [
              0.6666666666666666,
              "#ed7953"
             ],
             [
              0.7777777777777778,
              "#fb9f3a"
             ],
             [
              0.8888888888888888,
              "#fdca26"
             ],
             [
              1,
              "#f0f921"
             ]
            ],
            "type": "histogram2d"
           }
          ],
          "histogram2dcontour": [
           {
            "colorbar": {
             "outlinewidth": 0,
             "ticks": ""
            },
            "colorscale": [
             [
              0,
              "#0d0887"
             ],
             [
              0.1111111111111111,
              "#46039f"
             ],
             [
              0.2222222222222222,
              "#7201a8"
             ],
             [
              0.3333333333333333,
              "#9c179e"
             ],
             [
              0.4444444444444444,
              "#bd3786"
             ],
             [
              0.5555555555555556,
              "#d8576b"
             ],
             [
              0.6666666666666666,
              "#ed7953"
             ],
             [
              0.7777777777777778,
              "#fb9f3a"
             ],
             [
              0.8888888888888888,
              "#fdca26"
             ],
             [
              1,
              "#f0f921"
             ]
            ],
            "type": "histogram2dcontour"
           }
          ],
          "mesh3d": [
           {
            "colorbar": {
             "outlinewidth": 0,
             "ticks": ""
            },
            "type": "mesh3d"
           }
          ],
          "parcoords": [
           {
            "line": {
             "colorbar": {
              "outlinewidth": 0,
              "ticks": ""
             }
            },
            "type": "parcoords"
           }
          ],
          "pie": [
           {
            "automargin": true,
            "type": "pie"
           }
          ],
          "scatter": [
           {
            "marker": {
             "colorbar": {
              "outlinewidth": 0,
              "ticks": ""
             }
            },
            "type": "scatter"
           }
          ],
          "scatter3d": [
           {
            "line": {
             "colorbar": {
              "outlinewidth": 0,
              "ticks": ""
             }
            },
            "marker": {
             "colorbar": {
              "outlinewidth": 0,
              "ticks": ""
             }
            },
            "type": "scatter3d"
           }
          ],
          "scattercarpet": [
           {
            "marker": {
             "colorbar": {
              "outlinewidth": 0,
              "ticks": ""
             }
            },
            "type": "scattercarpet"
           }
          ],
          "scattergeo": [
           {
            "marker": {
             "colorbar": {
              "outlinewidth": 0,
              "ticks": ""
             }
            },
            "type": "scattergeo"
           }
          ],
          "scattergl": [
           {
            "marker": {
             "colorbar": {
              "outlinewidth": 0,
              "ticks": ""
             }
            },
            "type": "scattergl"
           }
          ],
          "scattermapbox": [
           {
            "marker": {
             "colorbar": {
              "outlinewidth": 0,
              "ticks": ""
             }
            },
            "type": "scattermapbox"
           }
          ],
          "scatterpolar": [
           {
            "marker": {
             "colorbar": {
              "outlinewidth": 0,
              "ticks": ""
             }
            },
            "type": "scatterpolar"
           }
          ],
          "scatterpolargl": [
           {
            "marker": {
             "colorbar": {
              "outlinewidth": 0,
              "ticks": ""
             }
            },
            "type": "scatterpolargl"
           }
          ],
          "scatterternary": [
           {
            "marker": {
             "colorbar": {
              "outlinewidth": 0,
              "ticks": ""
             }
            },
            "type": "scatterternary"
           }
          ],
          "surface": [
           {
            "colorbar": {
             "outlinewidth": 0,
             "ticks": ""
            },
            "colorscale": [
             [
              0,
              "#0d0887"
             ],
             [
              0.1111111111111111,
              "#46039f"
             ],
             [
              0.2222222222222222,
              "#7201a8"
             ],
             [
              0.3333333333333333,
              "#9c179e"
             ],
             [
              0.4444444444444444,
              "#bd3786"
             ],
             [
              0.5555555555555556,
              "#d8576b"
             ],
             [
              0.6666666666666666,
              "#ed7953"
             ],
             [
              0.7777777777777778,
              "#fb9f3a"
             ],
             [
              0.8888888888888888,
              "#fdca26"
             ],
             [
              1,
              "#f0f921"
             ]
            ],
            "type": "surface"
           }
          ],
          "table": [
           {
            "cells": {
             "fill": {
              "color": "#EBF0F8"
             },
             "line": {
              "color": "white"
             }
            },
            "header": {
             "fill": {
              "color": "#C8D4E3"
             },
             "line": {
              "color": "white"
             }
            },
            "type": "table"
           }
          ]
         },
         "layout": {
          "annotationdefaults": {
           "arrowcolor": "#2a3f5f",
           "arrowhead": 0,
           "arrowwidth": 1
          },
          "coloraxis": {
           "colorbar": {
            "outlinewidth": 0,
            "ticks": ""
           }
          },
          "colorscale": {
           "diverging": [
            [
             0,
             "#8e0152"
            ],
            [
             0.1,
             "#c51b7d"
            ],
            [
             0.2,
             "#de77ae"
            ],
            [
             0.3,
             "#f1b6da"
            ],
            [
             0.4,
             "#fde0ef"
            ],
            [
             0.5,
             "#f7f7f7"
            ],
            [
             0.6,
             "#e6f5d0"
            ],
            [
             0.7,
             "#b8e186"
            ],
            [
             0.8,
             "#7fbc41"
            ],
            [
             0.9,
             "#4d9221"
            ],
            [
             1,
             "#276419"
            ]
           ],
           "sequential": [
            [
             0,
             "#0d0887"
            ],
            [
             0.1111111111111111,
             "#46039f"
            ],
            [
             0.2222222222222222,
             "#7201a8"
            ],
            [
             0.3333333333333333,
             "#9c179e"
            ],
            [
             0.4444444444444444,
             "#bd3786"
            ],
            [
             0.5555555555555556,
             "#d8576b"
            ],
            [
             0.6666666666666666,
             "#ed7953"
            ],
            [
             0.7777777777777778,
             "#fb9f3a"
            ],
            [
             0.8888888888888888,
             "#fdca26"
            ],
            [
             1,
             "#f0f921"
            ]
           ],
           "sequentialminus": [
            [
             0,
             "#0d0887"
            ],
            [
             0.1111111111111111,
             "#46039f"
            ],
            [
             0.2222222222222222,
             "#7201a8"
            ],
            [
             0.3333333333333333,
             "#9c179e"
            ],
            [
             0.4444444444444444,
             "#bd3786"
            ],
            [
             0.5555555555555556,
             "#d8576b"
            ],
            [
             0.6666666666666666,
             "#ed7953"
            ],
            [
             0.7777777777777778,
             "#fb9f3a"
            ],
            [
             0.8888888888888888,
             "#fdca26"
            ],
            [
             1,
             "#f0f921"
            ]
           ]
          },
          "colorway": [
           "#636efa",
           "#EF553B",
           "#00cc96",
           "#ab63fa",
           "#FFA15A",
           "#19d3f3",
           "#FF6692",
           "#B6E880",
           "#FF97FF",
           "#FECB52"
          ],
          "font": {
           "color": "#2a3f5f"
          },
          "geo": {
           "bgcolor": "white",
           "lakecolor": "white",
           "landcolor": "#E5ECF6",
           "showlakes": true,
           "showland": true,
           "subunitcolor": "white"
          },
          "hoverlabel": {
           "align": "left"
          },
          "hovermode": "closest",
          "mapbox": {
           "style": "light"
          },
          "paper_bgcolor": "white",
          "plot_bgcolor": "#E5ECF6",
          "polar": {
           "angularaxis": {
            "gridcolor": "white",
            "linecolor": "white",
            "ticks": ""
           },
           "bgcolor": "#E5ECF6",
           "radialaxis": {
            "gridcolor": "white",
            "linecolor": "white",
            "ticks": ""
           }
          },
          "scene": {
           "xaxis": {
            "backgroundcolor": "#E5ECF6",
            "gridcolor": "white",
            "gridwidth": 2,
            "linecolor": "white",
            "showbackground": true,
            "ticks": "",
            "zerolinecolor": "white"
           },
           "yaxis": {
            "backgroundcolor": "#E5ECF6",
            "gridcolor": "white",
            "gridwidth": 2,
            "linecolor": "white",
            "showbackground": true,
            "ticks": "",
            "zerolinecolor": "white"
           },
           "zaxis": {
            "backgroundcolor": "#E5ECF6",
            "gridcolor": "white",
            "gridwidth": 2,
            "linecolor": "white",
            "showbackground": true,
            "ticks": "",
            "zerolinecolor": "white"
           }
          },
          "shapedefaults": {
           "line": {
            "color": "#2a3f5f"
           }
          },
          "ternary": {
           "aaxis": {
            "gridcolor": "white",
            "linecolor": "white",
            "ticks": ""
           },
           "baxis": {
            "gridcolor": "white",
            "linecolor": "white",
            "ticks": ""
           },
           "bgcolor": "#E5ECF6",
           "caxis": {
            "gridcolor": "white",
            "linecolor": "white",
            "ticks": ""
           }
          },
          "title": {
           "x": 0.05
          },
          "xaxis": {
           "automargin": true,
           "gridcolor": "white",
           "linecolor": "white",
           "ticks": "",
           "title": {
            "standoff": 15
           },
           "zerolinecolor": "white",
           "zerolinewidth": 2
          },
          "yaxis": {
           "automargin": true,
           "gridcolor": "white",
           "linecolor": "white",
           "ticks": "",
           "title": {
            "standoff": 15
           },
           "zerolinecolor": "white",
           "zerolinewidth": 2
          }
         }
        },
        "width": 800,
        "xaxis": {
         "anchor": "y",
         "autorange": true,
         "domain": [
          0,
          1
         ],
         "gridcolor": "#cfcfcf",
         "range": [
          -0.11173003072196622,
          2.401730030721966
         ],
         "title": {
          "text": "Average Distance to Subway (miles)"
         },
         "type": "linear"
        },
        "yaxis": {
         "anchor": "x",
         "autorange": true,
         "domain": [
          0,
          1
         ],
         "gridcolor": "#cfcfcf",
         "range": [
          1252.3810110974107,
          5169.618988902589
         ],
         "title": {
          "text": "Rent 1BD"
         },
         "type": "linear"
        }
       }
      },
      "image/png": "[encoded data removed]",
      "text/html": [
       "<div>\n",
       "        \n",
       "        \n",
       "            <div id=\"3d0375c6-f28e-4d69-9068-956462930b75\" class=\"plotly-graph-div\" style=\"height:600px; width:800px;\"></div>\n",
       "            <script type=\"text/javascript\">\n",
       "                require([\"plotly\"], function(Plotly) {\n",
       "                    window.PLOTLYENV=window.PLOTLYENV || {};\n",
       "                    \n",
       "                if (document.getElementById(\"3d0375c6-f28e-4d69-9068-956462930b75\")) {\n",
       "                    Plotly.newPlot(\n",
       "                        '3d0375c6-f28e-4d69-9068-956462930b75',\n",
       "                        [{\"hovertemplate\": \"<b>%{hovertext}</b><br><br>Borough=Bronx<br>symbol=Not PE<br>Average Distance to Subway (miles)=%{x}<br>Rent 1BD=%{y}<extra></extra>\", \"hovertext\": [\"Allerton\", \"Baychester\", \"Castle Hill\", \"Claremont Village\", \"Co-op City\", \"Concourse Village\", \"Edenwald\", \"Fieldston\", \"Hunts Point\", \"Kingsbridge\", \"Longwood\", \"Morris Heights\", \"Morrisania\", \"Pelham Gardens\", \"Schuylerville\", \"Tremont\", \"University Heights\", \"Westchester Square\", \"Woodlawn\"], \"legendgroup\": \"Bronx, Not PE\", \"marker\": {\"color\": \"#636efa\", \"opacity\": 0.8, \"symbol\": \"circle\"}, \"mode\": \"markers\", \"name\": \"Bronx, Not PE\", \"showlegend\": true, \"type\": \"scatter\", \"x\": [0.14, 0.19, 0.53, 0.18, 0.36, 0.13, 0.19, 0.22, 0.37, 0.13, 0.1, 0.17, 0.23, 0.22, 0.26, 0.27, 0.14, 0.12, 0.23], \"xaxis\": \"x\", \"y\": [1545, 1599, 1550, 1651, 1599, 1739, 1555, 1745, 1734, 1636, 1734, 1722, 1660, 1599, 1651, 1600, 1570, 1651, 1650], \"yaxis\": \"y\"}, {\"hovertemplate\": \"<b>%{hovertext}</b><br><br>Borough=Bronx<br>symbol=PE<br>Average Distance to Subway (miles)=%{x}<br>Rent 1BD=%{y}<extra></extra>\", \"hovertext\": [\"Belmont\", \"Bronx Park\", \"Bronxdale\", \"City Island\", \"Clason Point\", \"Concourse\", \"Country Club\", \"Crotona Park\", \"East Morrisania\", \"Eastchester\", \"Ferry Point Park\", \"Fordham\", \"Highbridge\", \"Melrose\", \"Morris Park\", \"Mott Haven\", \"Mount Eden\", \"Mount Hope\", \"North Riverdale\", \"Norwood\", \"Olinville\", \"Parkchester\", \"Pelham Bay\", \"Pelham Bay Park\", \"Port Morris\", \"Rikers Island\", \"Riverdale\", \"Soundview\", \"Spuyten Duyvil\", \"Throgs Neck\", \"Unionport\", \"Van Cortlandt Park\", \"Van Nest\", \"Wakefield\", \"West Farms\", \"Williamsbridge\"], \"legendgroup\": \"Bronx, PE\", \"marker\": {\"color\": \"#636efa\", \"opacity\": 0.8, \"symbol\": \"diamond\"}, \"mode\": \"markers\", \"name\": \"Bronx, PE\", \"showlegend\": true, \"type\": \"scatter\", \"x\": [0.27, 0.21, 0.07, 1.04, 0.63, 0.08, 0.36, 0.21, 0.1, 0.21, 0.88, 0.11, 0.17, 0.15, 0.23, 0.07, 0.06, 0.07, 0.61, 0.1, 0.08, 0.13, 0.13, 0.6400000000000001, 0.16, 0.82, 0.41, 0.18, 0.27, 0.88, 0.21, 0.36, 0.18, 0.16, 0.09, 0.19], \"xaxis\": \"x\", \"y\": [1548, 1545, 1595, 1599, 1545, 1608, 1651, 1563, 1545, 1599, 1595, 1538, 1659, 1733, 1630, 2175, 1740, 1595, 1745, 1558, 1555, 1545, 1675, 1599, 1987, 1898, 1879, 1505, 1737, 1595, 1595, 1740, 1599, 1552, 1563, 1475], \"yaxis\": \"y\"}, {\"hovertemplate\": \"<b>%{hovertext}</b><br><br>Borough=Queens<br>symbol=Not PE<br>Average Distance to Subway (miles)=%{x}<br>Rent 1BD=%{y}<extra></extra>\", \"hovertext\": [\"Alley Pond Park\", \"Arverne\", \"Bayside\", \"Bellerose\", \"Briarwood\", \"Cambria Heights\", \"Corona\", \"Cunningham Park\", \"Douglaston\", \"Edgemere\", \"Elmhurst\", \"Far Rockaway\", \"Floral Park\", \"Flushing\", \"Fresh Meadows\", \"Glen Oaks\", \"Hollis\", \"Hollis Hills\", \"Holliswood\", \"Jackson Heights\", \"Jamaica\", \"Jamaica Estates\", \"Jamaica Hills\", \"Kew Gardens Hills\", \"Laurelton\", \"Long Island City\", \"Neponsit\", \"Ozone Park\", \"Queens Village\", \"Richmond Hill\", \"Ridgewood\", \"Rockaway Beach\", \"Rosedale\", \"South Ozone Park\", \"Springfield Gardens\", \"St. Albans\"], \"legendgroup\": \"Queens, Not PE\", \"marker\": {\"color\": \"#EF553B\", \"opacity\": 0.8, \"symbol\": \"circle\"}, \"mode\": \"markers\", \"name\": \"Queens, Not PE\", \"showlegend\": true, \"type\": \"scatter\", \"x\": [1.6, 0.14, 1.4, 1.66, 0.12, 1.38, 0.23, 0.8, 1.99, 0.18, 0.16, 0.24, 2.19, 0.58, 0.86, 2.19, 0.41, 1.01, 0.44, 0.13, 0.59, 0.29, 0.17, 0.44, 1.63, 0.16, 0.75, 0.13, 1.08, 0.15, 0.14, 0.13, 1.82, 0.52, 1.54, 0.77], \"xaxis\": \"x\", \"y\": [1771, 1771, 1871, 1771, 1710, 1908, 1889, 1771, 1803, 1771, 1850, 1739, 1771, 1787, 1771, 1771, 1945, 1771, 1746, 1829, 2157, 1891, 1737, 1800, 1908, 3218, 1734, 1740, 1945, 1624, 1921, 1771, 1898, 1908, 1908, 1908], \"yaxis\": \"y\"}, {\"hovertemplate\": \"<b>%{hovertext}</b><br><br>Borough=Queens<br>symbol=PE<br>Average Distance to Subway (miles)=%{x}<br>Rent 1BD=%{y}<extra></extra>\", \"hovertext\": [\"Astoria\", \"Bay Terrace\", \"Bayswater\", \"Belle Harbor\", \"Breezy Point\", \"Broad Channel\", \"College Point\", \"Ditmars Steinway\", \"East Elmhurst\", \"Flushing Meadows Corona Park\", \"Forest Hills\", \"Forest Park\", \"Glendale\", \"Howard Beach\", \"Kew Gardens\", \"LaGuardia Airport\", \"Little Neck\", \"Maspeth\", \"Middle Village\", \"Rego Park\", \"Rockaway Park\", \"Sunnyside\", \"Whitestone\", \"Woodhaven\", \"Woodside\"], \"legendgroup\": \"Queens, PE\", \"marker\": {\"color\": \"#EF553B\", \"opacity\": 0.8, \"symbol\": \"diamond\"}, \"mode\": \"markers\", \"name\": \"Queens, PE\", \"showlegend\": true, \"type\": \"scatter\", \"x\": [0.16, 1.47, 0.24, 0.43, 1.3, 0.5099999999999938, 0.82, 0.33, 0.45, 0.26, 0.2, 0.24, 0.34, 0.37999999999999995, 0.14, 0.79, 2.26, 0.45, 0.32, 0.18, 0.12, 0.17, 1.05, 0.13, 0.1], \"xaxis\": \"x\", \"y\": [1957, 1735, 1739, 1734, 1734, 1722, 1734, 1987, 1771, 1914, 1950, 1745, 1707, 1728, 1809, 1914, 1771, 1654, 1708, 1902, 1734, 1910, 1735, 1741, 1783], \"yaxis\": \"y\"}, {\"hovertemplate\": \"<b>%{hovertext}</b><br><br>Borough=Brooklyn<br>symbol=Not PE<br>Average Distance to Subway (miles)=%{x}<br>Rent 1BD=%{y}<extra></extra>\", \"hovertext\": [\"Bath Beach\", \"Bergen Beach\", \"Brighton Beach\", \"Brownsville\", \"Canarsie\", \"Coney Island\", \"Crown Heights\", \"Cypress Hills\", \"East Flatbush\", \"East New York\", \"Flatbush\", \"Flatlands\", \"Gravesend\", \"Manhattan Beach\", \"Marine Park\", \"Midwood\", \"Mill Basin\", \"Prospect-Lefferts Gardens\", \"Sea Gate\", \"Sheepshead Bay\", \"Sunset Park\"], \"legendgroup\": \"Brooklyn, Not PE\", \"marker\": {\"color\": \"#00cc96\", \"opacity\": 0.8, \"symbol\": \"circle\"}, \"mode\": \"markers\", \"name\": \"Brooklyn, Not PE\", \"showlegend\": true, \"type\": \"scatter\", \"x\": [0.21, 0.97, 0.08, 0.12, 0.38, 0.35, 0.11, 0.08, 0.31, 0.32, 0.1, 0.55, 0.13, 0.36, 0.7800000000000001, 0.15, 1.1, 0.13, 0.67, 0.26, 0.14], \"xaxis\": \"x\", \"y\": [1614, 1740, 1895, 1588, 1660, 2158, 2077, 1735, 1749, 1735, 1855, 1745, 1661, 1945, 1740, 1708, 1740, 2052, 1914, 1700, 1706], \"yaxis\": \"y\"}, {\"hovertemplate\": \"<b>%{hovertext}</b><br><br>Borough=Brooklyn<br>symbol=PE<br>Average Distance to Subway (miles)=%{x}<br>Rent 1BD=%{y}<extra></extra>\", \"hovertext\": [\"Bay Ridge\", \"Bedford-Stuyvesant\", \"Bensonhurst\", \"Boerum Hill\", \"Borough Park\", \"Brooklyn Heights\", \"Bushwick\", \"Carroll Gardens\", \"Clinton Hill\", \"Cobble Hill\", \"Columbia St\", \"DUMBO\", \"Downtown Brooklyn\", \"Dyker Heights\", \"Fort Greene\", \"Fort Hamilton\", \"Gerritsen Beach\", \"Gowanus\", \"Green-Wood Cemetery\", \"Greenpoint\", \"Kensington\", \"Navy Yard\", \"Park Slope\", \"Plum Beach\", \"Prospect Heights\", \"Prospect Park\", \"Red Hook\", \"South Slope\", \"Vinegar Hill\", \"Williamsburg\", \"Windsor Terrace\"], \"legendgroup\": \"Brooklyn, PE\", \"marker\": {\"color\": \"#00cc96\", \"opacity\": 0.8, \"symbol\": \"diamond\"}, \"mode\": \"markers\", \"name\": \"Brooklyn, PE\", \"showlegend\": true, \"type\": \"scatter\", \"x\": [0.17, 0.11, 0.11, 0.06, 0.1, 0.07, 0.09, 0.08, 0.14, 0.12, 0.34, 0.12, 0.05, 0.28, 0.1, 0.17, 0.72, 0.1, 0.18, 0.21, 0.12, 0.34, 0.1, 0.99, 0.07, 0.13, 0.32, 0.07, 0.17, 0.12, 0.09], \"xaxis\": \"x\", \"y\": [1698, 2221, 1584, 2735, 1623, 3299, 2430, 2673, 2722, 2777, 2775, 4107, 3453, 1591, 3048, 1666, 1734, 2931, 1987, 2657, 1795, 3973, 2631, 1734, 2603, 2402, 2456, 2775, 4098, 3040, 2315], \"yaxis\": \"y\"}, {\"hovertemplate\": \"<b>%{hovertext}</b><br><br>Borough=Manhattan<br>symbol=Not PE<br>Average Distance to Subway (miles)=%{x}<br>Rent 1BD=%{y}<extra></extra>\", \"hovertext\": [\"Chelsea\", \"Civic Center\", \"Financial District\", \"Kips Bay\", \"Lower East Side\", \"Morningside Heights\", \"Roosevelt Island\", \"SoHo\", \"Tribeca\", \"Two Bridges\", \"Upper West Side\"], \"legendgroup\": \"Manhattan, Not PE\", \"marker\": {\"color\": \"#ab63fa\", \"opacity\": 0.8, \"symbol\": \"circle\"}, \"mode\": \"markers\", \"name\": \"Manhattan, Not PE\", \"showlegend\": true, \"type\": \"scatter\", \"x\": [0.09, 0.05, 0.05, 0.2, 0.14, 0.09, 0.18, 0.05, 0.04, 0.16, 0.1], \"xaxis\": \"x\", \"y\": [4273, 3973, 4048, 4098, 2948, 3067, 3101, 4130, 4947, 3049, 3303], \"yaxis\": \"y\"}, {\"hovertemplate\": \"<b>%{hovertext}</b><br><br>Borough=Manhattan<br>symbol=PE<br>Average Distance to Subway (miles)=%{x}<br>Rent 1BD=%{y}<extra></extra>\", \"hovertext\": [\"Battery Park City\", \"Central Park\", \"Chinatown\", \"East Harlem\", \"East Village\", \"Flatiron District\", \"Gramercy\", \"Greenwich Village\", \"Harlem\", \"Hell's Kitchen\", \"Inwood\", \"Little Italy\", \"Marble Hill\", \"Midtown\", \"Murray Hill\", \"NoHo\", \"Randall's Island\", \"Stuyvesant Town\", \"Theater District\", \"Upper East Side\", \"Washington Heights\", \"West Village\"], \"legendgroup\": \"Manhattan, PE\", \"marker\": {\"color\": \"#ab63fa\", \"opacity\": 0.8, \"symbol\": \"diamond\"}, \"mode\": \"markers\", \"name\": \"Manhattan, PE\", \"showlegend\": true, \"type\": \"scatter\", \"x\": [0.12, 0.12, 0.08, 0.12, 0.17, 0.04, 0.08, 0.07, 0.07, 0.12, 0.12, 0.05, 0.09, 0.07, 0.12, 0.03, 0.41, 0.16, 0.03, 0.1, 0.08, 0.09], \"xaxis\": \"x\", \"y\": [3987, 3101, 2343, 2108, 2874, 4130, 4098, 4011, 2173, 4130, 1809, 2747, 1740, 3853, 4098, 4039, 1987, 3973, 4130, 2917, 1853, 3864], \"yaxis\": \"y\"}],\n",
       "                        {\"height\": 600, \"legend\": {\"title\": {\"text\": \"Borough, symbol\"}, \"tracegroupgap\": 0}, \"margin\": {\"b\": 10, \"l\": 0, \"r\": 0, \"t\": 10}, \"paper_bgcolor\": \"#f0f0f0\", \"plot_bgcolor\": \"#f0f0f0\", \"scene\": {\"xaxis\": {\"nticks\": 4, \"range\": [-0.01, 0.5]}, \"yaxis\": {\"nticks\": 4, \"range\": [-0.01, 0.5]}}, \"template\": {\"data\": {\"bar\": [{\"error_x\": {\"color\": \"#2a3f5f\"}, \"error_y\": {\"color\": \"#2a3f5f\"}, \"marker\": {\"line\": {\"color\": \"#E5ECF6\", \"width\": 0.5}}, \"type\": \"bar\"}], \"barpolar\": [{\"marker\": {\"line\": {\"color\": \"#E5ECF6\", \"width\": 0.5}}, \"type\": \"barpolar\"}], \"carpet\": [{\"aaxis\": {\"endlinecolor\": \"#2a3f5f\", \"gridcolor\": \"white\", \"linecolor\": \"white\", \"minorgridcolor\": \"white\", \"startlinecolor\": \"#2a3f5f\"}, \"baxis\": {\"endlinecolor\": \"#2a3f5f\", \"gridcolor\": \"white\", \"linecolor\": \"white\", \"minorgridcolor\": \"white\", \"startlinecolor\": \"#2a3f5f\"}, \"type\": \"carpet\"}], \"choropleth\": [{\"colorbar\": {\"outlinewidth\": 0, \"ticks\": \"\"}, \"type\": \"choropleth\"}], \"contour\": [{\"colorbar\": {\"outlinewidth\": 0, \"ticks\": \"\"}, \"colorscale\": [[0.0, \"#0d0887\"], [0.1111111111111111, \"#46039f\"], [0.2222222222222222, \"#7201a8\"], [0.3333333333333333, \"#9c179e\"], [0.4444444444444444, \"#bd3786\"], [0.5555555555555556, \"#d8576b\"], [0.6666666666666666, \"#ed7953\"], [0.7777777777777778, \"#fb9f3a\"], [0.8888888888888888, \"#fdca26\"], [1.0, \"#f0f921\"]], \"type\": \"contour\"}], \"contourcarpet\": [{\"colorbar\": {\"outlinewidth\": 0, \"ticks\": \"\"}, \"type\": \"contourcarpet\"}], \"heatmap\": [{\"colorbar\": {\"outlinewidth\": 0, \"ticks\": \"\"}, \"colorscale\": [[0.0, \"#0d0887\"], [0.1111111111111111, \"#46039f\"], [0.2222222222222222, \"#7201a8\"], [0.3333333333333333, \"#9c179e\"], [0.4444444444444444, \"#bd3786\"], [0.5555555555555556, \"#d8576b\"], [0.6666666666666666, \"#ed7953\"], [0.7777777777777778, \"#fb9f3a\"], [0.8888888888888888, \"#fdca26\"], [1.0, \"#f0f921\"]], \"type\": \"heatmap\"}], \"heatmapgl\": [{\"colorbar\": {\"outlinewidth\": 0, \"ticks\": \"\"}, \"colorscale\": [[0.0, \"#0d0887\"], [0.1111111111111111, \"#46039f\"], [0.2222222222222222, \"#7201a8\"], [0.3333333333333333, \"#9c179e\"], [0.4444444444444444, \"#bd3786\"], [0.5555555555555556, \"#d8576b\"], [0.6666666666666666, \"#ed7953\"], [0.7777777777777778, \"#fb9f3a\"], [0.8888888888888888, \"#fdca26\"], [1.0, \"#f0f921\"]], \"type\": \"heatmapgl\"}], \"histogram\": [{\"marker\": {\"colorbar\": {\"outlinewidth\": 0, \"ticks\": \"\"}}, \"type\": \"histogram\"}], \"histogram2d\": [{\"colorbar\": {\"outlinewidth\": 0, \"ticks\": \"\"}, \"colorscale\": [[0.0, \"#0d0887\"], [0.1111111111111111, \"#46039f\"], [0.2222222222222222, \"#7201a8\"], [0.3333333333333333, \"#9c179e\"], [0.4444444444444444, \"#bd3786\"], [0.5555555555555556, \"#d8576b\"], [0.6666666666666666, \"#ed7953\"], [0.7777777777777778, \"#fb9f3a\"], [0.8888888888888888, \"#fdca26\"], [1.0, \"#f0f921\"]], \"type\": \"histogram2d\"}], \"histogram2dcontour\": [{\"colorbar\": {\"outlinewidth\": 0, \"ticks\": \"\"}, \"colorscale\": [[0.0, \"#0d0887\"], [0.1111111111111111, \"#46039f\"], [0.2222222222222222, \"#7201a8\"], [0.3333333333333333, \"#9c179e\"], [0.4444444444444444, \"#bd3786\"], [0.5555555555555556, \"#d8576b\"], [0.6666666666666666, \"#ed7953\"], [0.7777777777777778, \"#fb9f3a\"], [0.8888888888888888, \"#fdca26\"], [1.0, \"#f0f921\"]], \"type\": \"histogram2dcontour\"}], \"mesh3d\": [{\"colorbar\": {\"outlinewidth\": 0, \"ticks\": \"\"}, \"type\": \"mesh3d\"}], \"parcoords\": [{\"line\": {\"colorbar\": {\"outlinewidth\": 0, \"ticks\": \"\"}}, \"type\": \"parcoords\"}], \"pie\": [{\"automargin\": true, \"type\": \"pie\"}], \"scatter\": [{\"marker\": {\"colorbar\": {\"outlinewidth\": 0, \"ticks\": \"\"}}, \"type\": \"scatter\"}], \"scatter3d\": [{\"line\": {\"colorbar\": {\"outlinewidth\": 0, \"ticks\": \"\"}}, \"marker\": {\"colorbar\": {\"outlinewidth\": 0, \"ticks\": \"\"}}, \"type\": \"scatter3d\"}], \"scattercarpet\": [{\"marker\": {\"colorbar\": {\"outlinewidth\": 0, \"ticks\": \"\"}}, \"type\": \"scattercarpet\"}], \"scattergeo\": [{\"marker\": {\"colorbar\": {\"outlinewidth\": 0, \"ticks\": \"\"}}, \"type\": \"scattergeo\"}], \"scattergl\": [{\"marker\": {\"colorbar\": {\"outlinewidth\": 0, \"ticks\": \"\"}}, \"type\": \"scattergl\"}], \"scattermapbox\": [{\"marker\": {\"colorbar\": {\"outlinewidth\": 0, \"ticks\": \"\"}}, \"type\": \"scattermapbox\"}], \"scatterpolar\": [{\"marker\": {\"colorbar\": {\"outlinewidth\": 0, \"ticks\": \"\"}}, \"type\": \"scatterpolar\"}], \"scatterpolargl\": [{\"marker\": {\"colorbar\": {\"outlinewidth\": 0, \"ticks\": \"\"}}, \"type\": \"scatterpolargl\"}], \"scatterternary\": [{\"marker\": {\"colorbar\": {\"outlinewidth\": 0, \"ticks\": \"\"}}, \"type\": \"scatterternary\"}], \"surface\": [{\"colorbar\": {\"outlinewidth\": 0, \"ticks\": \"\"}, \"colorscale\": [[0.0, \"#0d0887\"], [0.1111111111111111, \"#46039f\"], [0.2222222222222222, \"#7201a8\"], [0.3333333333333333, \"#9c179e\"], [0.4444444444444444, \"#bd3786\"], [0.5555555555555556, \"#d8576b\"], [0.6666666666666666, \"#ed7953\"], [0.7777777777777778, \"#fb9f3a\"], [0.8888888888888888, \"#fdca26\"], [1.0, \"#f0f921\"]], \"type\": \"surface\"}], \"table\": [{\"cells\": {\"fill\": {\"color\": \"#EBF0F8\"}, \"line\": {\"color\": \"white\"}}, \"header\": {\"fill\": {\"color\": \"#C8D4E3\"}, \"line\": {\"color\": \"white\"}}, \"type\": \"table\"}]}, \"layout\": {\"annotationdefaults\": {\"arrowcolor\": \"#2a3f5f\", \"arrowhead\": 0, \"arrowwidth\": 1}, \"coloraxis\": {\"colorbar\": {\"outlinewidth\": 0, \"ticks\": \"\"}}, \"colorscale\": {\"diverging\": [[0, \"#8e0152\"], [0.1, \"#c51b7d\"], [0.2, \"#de77ae\"], [0.3, \"#f1b6da\"], [0.4, \"#fde0ef\"], [0.5, \"#f7f7f7\"], [0.6, \"#e6f5d0\"], [0.7, \"#b8e186\"], [0.8, \"#7fbc41\"], [0.9, \"#4d9221\"], [1, \"#276419\"]], \"sequential\": [[0.0, \"#0d0887\"], [0.1111111111111111, \"#46039f\"], [0.2222222222222222, \"#7201a8\"], [0.3333333333333333, \"#9c179e\"], [0.4444444444444444, \"#bd3786\"], [0.5555555555555556, \"#d8576b\"], [0.6666666666666666, \"#ed7953\"], [0.7777777777777778, \"#fb9f3a\"], [0.8888888888888888, \"#fdca26\"], [1.0, \"#f0f921\"]], \"sequentialminus\": [[0.0, \"#0d0887\"], [0.1111111111111111, \"#46039f\"], [0.2222222222222222, \"#7201a8\"], [0.3333333333333333, \"#9c179e\"], [0.4444444444444444, \"#bd3786\"], [0.5555555555555556, \"#d8576b\"], [0.6666666666666666, \"#ed7953\"], [0.7777777777777778, \"#fb9f3a\"], [0.8888888888888888, \"#fdca26\"], [1.0, \"#f0f921\"]]}, \"colorway\": [\"#636efa\", \"#EF553B\", \"#00cc96\", \"#ab63fa\", \"#FFA15A\", \"#19d3f3\", \"#FF6692\", \"#B6E880\", \"#FF97FF\", \"#FECB52\"], \"font\": {\"color\": \"#2a3f5f\"}, \"geo\": {\"bgcolor\": \"white\", \"lakecolor\": \"white\", \"landcolor\": \"#E5ECF6\", \"showlakes\": true, \"showland\": true, \"subunitcolor\": \"white\"}, \"hoverlabel\": {\"align\": \"left\"}, \"hovermode\": \"closest\", \"mapbox\": {\"style\": \"light\"}, \"paper_bgcolor\": \"white\", \"plot_bgcolor\": \"#E5ECF6\", \"polar\": {\"angularaxis\": {\"gridcolor\": \"white\", \"linecolor\": \"white\", \"ticks\": \"\"}, \"bgcolor\": \"#E5ECF6\", \"radialaxis\": {\"gridcolor\": \"white\", \"linecolor\": \"white\", \"ticks\": \"\"}}, \"scene\": {\"xaxis\": {\"backgroundcolor\": \"#E5ECF6\", \"gridcolor\": \"white\", \"gridwidth\": 2, \"linecolor\": \"white\", \"showbackground\": true, \"ticks\": \"\", \"zerolinecolor\": \"white\"}, \"yaxis\": {\"backgroundcolor\": \"#E5ECF6\", \"gridcolor\": \"white\", \"gridwidth\": 2, \"linecolor\": \"white\", \"showbackground\": true, \"ticks\": \"\", \"zerolinecolor\": \"white\"}, \"zaxis\": {\"backgroundcolor\": \"#E5ECF6\", \"gridcolor\": \"white\", \"gridwidth\": 2, \"linecolor\": \"white\", \"showbackground\": true, \"ticks\": \"\", \"zerolinecolor\": \"white\"}}, \"shapedefaults\": {\"line\": {\"color\": \"#2a3f5f\"}}, \"ternary\": {\"aaxis\": {\"gridcolor\": \"white\", \"linecolor\": \"white\", \"ticks\": \"\"}, \"baxis\": {\"gridcolor\": \"white\", \"linecolor\": \"white\", \"ticks\": \"\"}, \"bgcolor\": \"#E5ECF6\", \"caxis\": {\"gridcolor\": \"white\", \"linecolor\": \"white\", \"ticks\": \"\"}}, \"title\": {\"x\": 0.05}, \"xaxis\": {\"automargin\": true, \"gridcolor\": \"white\", \"linecolor\": \"white\", \"ticks\": \"\", \"title\": {\"standoff\": 15}, \"zerolinecolor\": \"white\", \"zerolinewidth\": 2}, \"yaxis\": {\"automargin\": true, \"gridcolor\": \"white\", \"linecolor\": \"white\", \"ticks\": \"\", \"title\": {\"standoff\": 15}, \"zerolinecolor\": \"white\", \"zerolinewidth\": 2}}}, \"width\": 800, \"xaxis\": {\"anchor\": \"y\", \"domain\": [0.0, 1.0], \"gridcolor\": \"#cfcfcf\", \"title\": {\"text\": \"Average Distance to Subway (miles)\"}}, \"yaxis\": {\"anchor\": \"x\", \"domain\": [0.0, 1.0], \"gridcolor\": \"#cfcfcf\", \"title\": {\"text\": \"Rent 1BD\"}}},\n",
       "                        {\"responsive\": true}\n",
       "                    ).then(function(){\n",
       "                            \n",
       "var gd = document.getElementById('3d0375c6-f28e-4d69-9068-956462930b75');\n",
       "var x = new MutationObserver(function (mutations, observer) {{\n",
       "        var display = window.getComputedStyle(gd).display;\n",
       "        if (!display || display === 'none') {{\n",
       "            console.log([gd, 'removed!']);\n",
       "            Plotly.purge(gd);\n",
       "            observer.disconnect();\n",
       "        }}\n",
       "}});\n",
       "\n",
       "// Listen for the removal of the full notebook cells\n",
       "var notebookContainer = gd.closest('#notebook-container');\n",
       "if (notebookContainer) {{\n",
       "    x.observe(notebookContainer, {childList: true});\n",
       "}}\n",
       "\n",
       "// Listen for the clearing of the current output cell\n",
       "var outputEl = gd.closest('.output');\n",
       "if (outputEl) {{\n",
       "    x.observe(outputEl, {childList: true});\n",
       "}}\n",
       "\n",
       "                        })\n",
       "                };\n",
       "                });\n",
       "            </script>\n",
       "        </div>"
      ]
     },
     "metadata": {},
     "output_type": "display_data"
    }
   ],
   "source": [
    "import plotly.express as px\n",
    "\n",
    "fig = px.scatter(merged.reset_index(), x= fields[0],y = fields[1],size_max=1,color='Borough',\n",
    "                    opacity=0.8, hover_name='Neighborhood',symbol=[{False:'Not PE', True:'PE'}[x] for x in pareto_efficient])\n",
    "\n",
    "\n",
    "fig.update_layout(\n",
    "    scene = dict(\n",
    "                    xaxis = dict(nticks=4, range=[-0.01,0.5],),\n",
    "                     yaxis = dict(nticks=4, range=[-0.01,0.5],),),\n",
    "    paper_bgcolor= '#f0f0f0',\n",
    "    xaxis = dict(gridcolor='#cfcfcf'),\n",
    "    yaxis = dict(gridcolor='#cfcfcf'),\n",
    "    plot_bgcolor= '#f0f0f0',\n",
    "    height=600,\n",
    "    width=800,\n",
    "    margin=dict(r=0, l=0, b=10, t=10))\n",
    "\n",
    "fig.show()"
   ]
  },
  {
   "cell_type": "code",
   "execution_count": 44,
   "metadata": {},
   "outputs": [],
   "source": [
    "pareto_borough = (merged[pareto_efficient].Borough.value_counts().to_frame()/merged.Borough.value_counts().to_frame()*100).astype(int).reset_index()"
   ]
  },
  {
   "cell_type": "code",
   "execution_count": 45,
   "metadata": {},
   "outputs": [
    {
     "data": {
      "image/png": "[encoded data removed]",
      "text/plain": [
       "<Figure size 432x288 with 1 Axes>"
      ]
     },
     "metadata": {},
     "output_type": "display_data"
    }
   ],
   "source": [
    "ax = sns.barplot(y='index',x='Borough',data = pareto_borough.sort_values('Borough', ascending=False))\n",
    "\n",
    "\n",
    "rects = ax.patches\n",
    "\n",
    "for rect in rects:\n",
    "    width = rect.get_width()\n",
    "    if width ==0:\n",
    "        ax.text(width+5, rect.get_y() + rect.get_height() / 2 +0.12, '{}%'.format(int(width)),\n",
    "            ha='center', va='bottom',color='black')\n",
    "    else:\n",
    "        \n",
    "        ax.text(width-5, rect.get_y() + rect.get_height() / 2 +0.12, '{}%'.format(int(width)),\n",
    "                ha='center', va='bottom',color='white')\n",
    "    \n",
    "ylabel('')\n",
    "xlabel('')\n",
    "title('Percentage of Pareto Optimal Neighborhoods');\n",
    "savefig('fig/percentage_pareto.png',bbox_inches='tight')\n",
    "savefig('fig/percentage_pareto.pdf',bbox_inches='tight')\n"
   ]
  },
  {
   "cell_type": "code",
   "execution_count": 46,
   "metadata": {},
   "outputs": [
    {
     "data": {
      "application/vnd.plotly.v1+json": {
       "config": {
        "plotlyServerURL": "https://plot.ly"
       },
       "data": [
        {
         "hovertemplate": "<b>%{hovertext}</b><br><br>Borough=Queens<br>Rent 1BD=%{x}<br>Average Distance to Subway (miles)=%{y}<br>Crime=%{z}<extra></extra>",
         "hovertext": [
          "Bayswater",
          "Belle Harbor",
          "Breezy Point",
          "Broad Channel",
          "Rockaway Park"
         ],
         "legendgroup": "Queens",
         "marker": {
          "color": "#636efa",
          "opacity": 0.8,
          "symbol": "circle"
         },
         "mode": "markers",
         "name": "Queens",
         "scene": "scene",
         "showlegend": true,
         "type": "scatter3d",
         "x": [
          1739,
          1734,
          1734,
          1722,
          1734
         ],
         "y": [
          0.24,
          0.43,
          1.3,
          0.5099999999999938,
          0.12
         ],
         "z": [
          0.03773096847712862,
          0.02215945767704379,
          0.0023956170461668963,
          0.031143021600169123,
          0.12337427787759515
         ]
        },
        {
         "hovertemplate": "<b>%{hovertext}</b><br><br>Borough=Brooklyn<br>Rent 1BD=%{x}<br>Average Distance to Subway (miles)=%{y}<br>Crime=%{z}<extra></extra>",
         "hovertext": [
          "Bensonhurst",
          "Boerum Hill",
          "Brooklyn Heights",
          "Fort Hamilton",
          "Park Slope",
          "Windsor Terrace"
         ],
         "legendgroup": "Brooklyn",
         "marker": {
          "color": "#EF553B",
          "opacity": 0.8,
          "symbol": "circle"
         },
         "mode": "markers",
         "name": "Brooklyn",
         "scene": "scene",
         "showlegend": true,
         "type": "scatter3d",
         "x": [
          1584,
          2735,
          3299,
          1666,
          2631,
          2315
         ],
         "y": [
          0.11,
          0.06,
          0.07,
          0.17,
          0.1,
          0.09
         ],
         "z": [
          0.6096845382494751,
          0.6785585283267733,
          0.03114302160016965,
          0.25034198132444063,
          0.05030795796950482,
          0.058093713369547224
         ]
        },
        {
         "hovertemplate": "<b>%{hovertext}</b><br><br>Borough=Bronx<br>Rent 1BD=%{x}<br>Average Distance to Subway (miles)=%{y}<br>Crime=%{z}<extra></extra>",
         "hovertext": [
          "Bronx Park",
          "Bronxdale",
          "Country Club",
          "East Morrisania",
          "Eastchester",
          "Fordham",
          "Mount Eden",
          "Olinville",
          "Parkchester",
          "Pelham Bay",
          "Pelham Bay Park",
          "Riverdale",
          "Soundview",
          "Spuyten Duyvil",
          "Van Cortlandt Park",
          "Van Nest",
          "Wakefield",
          "West Farms",
          "Williamsbridge"
         ],
         "legendgroup": "Bronx",
         "marker": {
          "color": "#00cc96",
          "opacity": 0.8,
          "symbol": "circle"
         },
         "mode": "markers",
         "name": "Bronx",
         "scene": "scene",
         "showlegend": true,
         "type": "scatter3d",
         "x": [
          1545,
          1595,
          1651,
          1545,
          1599,
          1538,
          1740,
          1555,
          1545,
          1675,
          1599,
          1879,
          1505,
          1737,
          1740,
          1599,
          1552,
          1563,
          1475
         ],
         "y": [
          0.21,
          0.07,
          0.36,
          0.1,
          0.21,
          0.11,
          0.06,
          0.08,
          0.13,
          0.13,
          0.6400000000000001,
          0.41,
          0.18,
          0.27,
          0.36,
          0.18,
          0.16,
          0.09,
          0.19
         ],
         "z": [
          0.12636879918530378,
          0.3856943444328703,
          0.03114302160016965,
          1.710470570963164,
          0.05869261763108896,
          3.422138950449411,
          3.146642990140218,
          1.380474322853674,
          0.7324599118655285,
          0.06827508581575653,
          0.004791234092333795,
          0.005989042615417241,
          1.8230645721330079,
          0.029945213077086207,
          0.007186851138500689,
          0.28747404554002753,
          0.6504100280343124,
          0.9133289988511292,
          0.9834007974515108
         ]
        },
        {
         "hovertemplate": "<b>%{hovertext}</b><br><br>Borough=Manhattan<br>Rent 1BD=%{x}<br>Average Distance to Subway (miles)=%{y}<br>Crime=%{z}<extra></extra>",
         "hovertext": [
          "Little Italy",
          "NoHo"
         ],
         "legendgroup": "Manhattan",
         "marker": {
          "color": "#ab63fa",
          "opacity": 0.8,
          "symbol": "circle"
         },
         "mode": "markers",
         "name": "Manhattan",
         "scene": "scene",
         "showlegend": true,
         "type": "scatter3d",
         "x": [
          2747,
          4039
         ],
         "y": [
          0.05,
          0.03
         ],
         "z": [
          0.26052335377064995,
          0.2323748534781889
         ]
        }
       ],
       "layout": {
        "height": 700,
        "legend": {
         "title": {
          "text": "Borough"
         },
         "tracegroupgap": 0
        },
        "margin": {
         "b": 20,
         "l": 0,
         "r": 0,
         "t": 0
        },
        "paper_bgcolor": "#f0f0f0",
        "scene": {
         "aspectmode": "auto",
         "aspectratio": {
          "x": 1,
          "y": 1,
          "z": 1
         },
         "camera": {
          "center": {
           "x": 0,
           "y": 0,
           "z": 0
          },
          "eye": {
           "x": 1.2501945483409849,
           "y": 1.2501945483409835,
           "z": 1.2501945483409838
          },
          "projection": {
           "type": "perspective"
          },
          "up": {
           "x": 0,
           "y": 0,
           "z": 1
          }
         },
         "domain": {
          "x": [
           0,
           1
          ],
          "y": [
           0,
           1
          ]
         },
         "xaxis": {
          "title": {
           "text": "Rent 1BD"
          },
          "type": "linear"
         },
         "yaxis": {
          "title": {
           "text": "Average Distance to Subway (miles)"
          },
          "type": "linear"
         },
         "zaxis": {
          "title": {
           "text": "Crime"
          },
          "type": "linear"
         }
        },
        "template": {
         "data": {
          "bar": [
           {
            "error_x": {
             "color": "#2a3f5f"
            },
            "error_y": {
             "color": "#2a3f5f"
            },
            "marker": {
             "line": {
              "color": "#E5ECF6",
              "width": 0.5
             }
            },
            "type": "bar"
           }
          ],
          "barpolar": [
           {
            "marker": {
             "line": {
              "color": "#E5ECF6",
              "width": 0.5
             }
            },
            "type": "barpolar"
           }
          ],
          "carpet": [
           {
            "aaxis": {
             "endlinecolor": "#2a3f5f",
             "gridcolor": "white",
             "linecolor": "white",
             "minorgridcolor": "white",
             "startlinecolor": "#2a3f5f"
            },
            "baxis": {
             "endlinecolor": "#2a3f5f",
             "gridcolor": "white",
             "linecolor": "white",
             "minorgridcolor": "white",
             "startlinecolor": "#2a3f5f"
            },
            "type": "carpet"
           }
          ],
          "choropleth": [
           {
            "colorbar": {
             "outlinewidth": 0,
             "ticks": ""
            },
            "type": "choropleth"
           }
          ],
          "contour": [
           {
            "colorbar": {
             "outlinewidth": 0,
             "ticks": ""
            },
            "colorscale": [
             [
              0,
              "#0d0887"
             ],
             [
              0.1111111111111111,
              "#46039f"
             ],
             [
              0.2222222222222222,
              "#7201a8"
             ],
             [
              0.3333333333333333,
              "#9c179e"
             ],
             [
              0.4444444444444444,
              "#bd3786"
             ],
             [
              0.5555555555555556,
              "#d8576b"
             ],
             [
              0.6666666666666666,
              "#ed7953"
             ],
             [
              0.7777777777777778,
              "#fb9f3a"
             ],
             [
              0.8888888888888888,
              "#fdca26"
             ],
             [
              1,
              "#f0f921"
             ]
            ],
            "type": "contour"
           }
          ],
          "contourcarpet": [
           {
            "colorbar": {
             "outlinewidth": 0,
             "ticks": ""
            },
            "type": "contourcarpet"
           }
          ],
          "heatmap": [
           {
            "colorbar": {
             "outlinewidth": 0,
             "ticks": ""
            },
            "colorscale": [
             [
              0,
              "#0d0887"
             ],
             [
              0.1111111111111111,
              "#46039f"
             ],
             [
              0.2222222222222222,
              "#7201a8"
             ],
             [
              0.3333333333333333,
              "#9c179e"
             ],
             [
              0.4444444444444444,
              "#bd3786"
             ],
             [
              0.5555555555555556,
              "#d8576b"
             ],
             [
              0.6666666666666666,
              "#ed7953"
             ],
             [
              0.7777777777777778,
              "#fb9f3a"
             ],
             [
              0.8888888888888888,
              "#fdca26"
             ],
             [
              1,
              "#f0f921"
             ]
            ],
            "type": "heatmap"
           }
          ],
          "heatmapgl": [
           {
            "colorbar": {
             "outlinewidth": 0,
             "ticks": ""
            },
            "colorscale": [
             [
              0,
              "#0d0887"
             ],
             [
              0.1111111111111111,
              "#46039f"
             ],
             [
              0.2222222222222222,
              "#7201a8"
             ],
             [
              0.3333333333333333,
              "#9c179e"
             ],
             [
              0.4444444444444444,
              "#bd3786"
             ],
             [
              0.5555555555555556,
              "#d8576b"
             ],
             [
              0.6666666666666666,
              "#ed7953"
             ],
             [
              0.7777777777777778,
              "#fb9f3a"
             ],
             [
              0.8888888888888888,
              "#fdca26"
             ],
             [
              1,
              "#f0f921"
             ]
            ],
            "type": "heatmapgl"
           }
          ],
          "histogram": [
           {
            "marker": {
             "colorbar": {
              "outlinewidth": 0,
              "ticks": ""
             }
            },
            "type": "histogram"
           }
          ],
          "histogram2d": [
           {
            "colorbar": {
             "outlinewidth": 0,
             "ticks": ""
            },
            "colorscale": [
             [
              0,
              "#0d0887"
             ],
             [
              0.1111111111111111,
              "#46039f"
             ],
             [
              0.2222222222222222,
              "#7201a8"
             ],
             [
              0.3333333333333333,
              "#9c179e"
             ],
             [
              0.4444444444444444,
              "#bd3786"
             ],
             [
              0.5555555555555556,
              "#d8576b"
             ],
             [
              0.6666666666666666,
              "#ed7953"
             ],
             [
              0.7777777777777778,
              "#fb9f3a"
             ],
             [
              0.8888888888888888,
              "#fdca26"
             ],
             [
              1,
              "#f0f921"
             ]
            ],
            "type": "histogram2d"
           }
          ],
          "histogram2dcontour": [
           {
            "colorbar": {
             "outlinewidth": 0,
             "ticks": ""
            },
            "colorscale": [
             [
              0,
              "#0d0887"
             ],
             [
              0.1111111111111111,
              "#46039f"
             ],
             [
              0.2222222222222222,
              "#7201a8"
             ],
             [
              0.3333333333333333,
              "#9c179e"
             ],
             [
              0.4444444444444444,
              "#bd3786"
             ],
             [
              0.5555555555555556,
              "#d8576b"
             ],
             [
              0.6666666666666666,
              "#ed7953"
             ],
             [
              0.7777777777777778,
              "#fb9f3a"
             ],
             [
              0.8888888888888888,
              "#fdca26"
             ],
             [
              1,
              "#f0f921"
             ]
            ],
            "type": "histogram2dcontour"
           }
          ],
          "mesh3d": [
           {
            "colorbar": {
             "outlinewidth": 0,
             "ticks": ""
            },
            "type": "mesh3d"
           }
          ],
          "parcoords": [
           {
            "line": {
             "colorbar": {
              "outlinewidth": 0,
              "ticks": ""
             }
            },
            "type": "parcoords"
           }
          ],
          "pie": [
           {
            "automargin": true,
            "type": "pie"
           }
          ],
          "scatter": [
           {
            "marker": {
             "colorbar": {
              "outlinewidth": 0,
              "ticks": ""
             }
            },
            "type": "scatter"
           }
          ],
          "scatter3d": [
           {
            "line": {
             "colorbar": {
              "outlinewidth": 0,
              "ticks": ""
             }
            },
            "marker": {
             "colorbar": {
              "outlinewidth": 0,
              "ticks": ""
             }
            },
            "type": "scatter3d"
           }
          ],
          "scattercarpet": [
           {
            "marker": {
             "colorbar": {
              "outlinewidth": 0,
              "ticks": ""
             }
            },
            "type": "scattercarpet"
           }
          ],
          "scattergeo": [
           {
            "marker": {
             "colorbar": {
              "outlinewidth": 0,
              "ticks": ""
             }
            },
            "type": "scattergeo"
           }
          ],
          "scattergl": [
           {
            "marker": {
             "colorbar": {
              "outlinewidth": 0,
              "ticks": ""
             }
            },
            "type": "scattergl"
           }
          ],
          "scattermapbox": [
           {
            "marker": {
             "colorbar": {
              "outlinewidth": 0,
              "ticks": ""
             }
            },
            "type": "scattermapbox"
           }
          ],
          "scatterpolar": [
           {
            "marker": {
             "colorbar": {
              "outlinewidth": 0,
              "ticks": ""
             }
            },
            "type": "scatterpolar"
           }
          ],
          "scatterpolargl": [
           {
            "marker": {
             "colorbar": {
              "outlinewidth": 0,
              "ticks": ""
             }
            },
            "type": "scatterpolargl"
           }
          ],
          "scatterternary": [
           {
            "marker": {
             "colorbar": {
              "outlinewidth": 0,
              "ticks": ""
             }
            },
            "type": "scatterternary"
           }
          ],
          "surface": [
           {
            "colorbar": {
             "outlinewidth": 0,
             "ticks": ""
            },
            "colorscale": [
             [
              0,
              "#0d0887"
             ],
             [
              0.1111111111111111,
              "#46039f"
             ],
             [
              0.2222222222222222,
              "#7201a8"
             ],
             [
              0.3333333333333333,
              "#9c179e"
             ],
             [
              0.4444444444444444,
              "#bd3786"
             ],
             [
              0.5555555555555556,
              "#d8576b"
             ],
             [
              0.6666666666666666,
              "#ed7953"
             ],
             [
              0.7777777777777778,
              "#fb9f3a"
             ],
             [
              0.8888888888888888,
              "#fdca26"
             ],
             [
              1,
              "#f0f921"
             ]
            ],
            "type": "surface"
           }
          ],
          "table": [
           {
            "cells": {
             "fill": {
              "color": "#EBF0F8"
             },
             "line": {
              "color": "white"
             }
            },
            "header": {
             "fill": {
              "color": "#C8D4E3"
             },
             "line": {
              "color": "white"
             }
            },
            "type": "table"
           }
          ]
         },
         "layout": {
          "annotationdefaults": {
           "arrowcolor": "#2a3f5f",
           "arrowhead": 0,
           "arrowwidth": 1
          },
          "coloraxis": {
           "colorbar": {
            "outlinewidth": 0,
            "ticks": ""
           }
          },
          "colorscale": {
           "diverging": [
            [
             0,
             "#8e0152"
            ],
            [
             0.1,
             "#c51b7d"
            ],
            [
             0.2,
             "#de77ae"
            ],
            [
             0.3,
             "#f1b6da"
            ],
            [
             0.4,
             "#fde0ef"
            ],
            [
             0.5,
             "#f7f7f7"
            ],
            [
             0.6,
             "#e6f5d0"
            ],
            [
             0.7,
             "#b8e186"
            ],
            [
             0.8,
             "#7fbc41"
            ],
            [
             0.9,
             "#4d9221"
            ],
            [
             1,
             "#276419"
            ]
           ],
           "sequential": [
            [
             0,
             "#0d0887"
            ],
            [
             0.1111111111111111,
             "#46039f"
            ],
            [
             0.2222222222222222,
             "#7201a8"
            ],
            [
             0.3333333333333333,
             "#9c179e"
            ],
            [
             0.4444444444444444,
             "#bd3786"
            ],
            [
             0.5555555555555556,
             "#d8576b"
            ],
            [
             0.6666666666666666,
             "#ed7953"
            ],
            [
             0.7777777777777778,
             "#fb9f3a"
            ],
            [
             0.8888888888888888,
             "#fdca26"
            ],
            [
             1,
             "#f0f921"
            ]
           ],
           "sequentialminus": [
            [
             0,
             "#0d0887"
            ],
            [
             0.1111111111111111,
             "#46039f"
            ],
            [
             0.2222222222222222,
             "#7201a8"
            ],
            [
             0.3333333333333333,
             "#9c179e"
            ],
            [
             0.4444444444444444,
             "#bd3786"
            ],
            [
             0.5555555555555556,
             "#d8576b"
            ],
            [
             0.6666666666666666,
             "#ed7953"
            ],
            [
             0.7777777777777778,
             "#fb9f3a"
            ],
            [
             0.8888888888888888,
             "#fdca26"
            ],
            [
             1,
             "#f0f921"
            ]
           ]
          },
          "colorway": [
           "#636efa",
           "#EF553B",
           "#00cc96",
           "#ab63fa",
           "#FFA15A",
           "#19d3f3",
           "#FF6692",
           "#B6E880",
           "#FF97FF",
           "#FECB52"
          ],
          "font": {
           "color": "#2a3f5f"
          },
          "geo": {
           "bgcolor": "white",
           "lakecolor": "white",
           "landcolor": "#E5ECF6",
           "showlakes": true,
           "showland": true,
           "subunitcolor": "white"
          },
          "hoverlabel": {
           "align": "left"
          },
          "hovermode": "closest",
          "mapbox": {
           "style": "light"
          },
          "paper_bgcolor": "white",
          "plot_bgcolor": "#E5ECF6",
          "polar": {
           "angularaxis": {
            "gridcolor": "white",
            "linecolor": "white",
            "ticks": ""
           },
           "bgcolor": "#E5ECF6",
           "radialaxis": {
            "gridcolor": "white",
            "linecolor": "white",
            "ticks": ""
           }
          },
          "scene": {
           "xaxis": {
            "backgroundcolor": "#E5ECF6",
            "gridcolor": "white",
            "gridwidth": 2,
            "linecolor": "white",
            "showbackground": true,
            "ticks": "",
            "zerolinecolor": "white"
           },
           "yaxis": {
            "backgroundcolor": "#E5ECF6",
            "gridcolor": "white",
            "gridwidth": 2,
            "linecolor": "white",
            "showbackground": true,
            "ticks": "",
            "zerolinecolor": "white"
           },
           "zaxis": {
            "backgroundcolor": "#E5ECF6",
            "gridcolor": "white",
            "gridwidth": 2,
            "linecolor": "white",
            "showbackground": true,
            "ticks": "",
            "zerolinecolor": "white"
           }
          },
          "shapedefaults": {
           "line": {
            "color": "#2a3f5f"
           }
          },
          "ternary": {
           "aaxis": {
            "gridcolor": "white",
            "linecolor": "white",
            "ticks": ""
           },
           "baxis": {
            "gridcolor": "white",
            "linecolor": "white",
            "ticks": ""
           },
           "bgcolor": "#E5ECF6",
           "caxis": {
            "gridcolor": "white",
            "linecolor": "white",
            "ticks": ""
           }
          },
          "title": {
           "x": 0.05
          },
          "xaxis": {
           "automargin": true,
           "gridcolor": "white",
           "linecolor": "white",
           "ticks": "",
           "title": {
            "standoff": 15
           },
           "zerolinecolor": "white",
           "zerolinewidth": 2
          },
          "yaxis": {
           "automargin": true,
           "gridcolor": "white",
           "linecolor": "white",
           "ticks": "",
           "title": {
            "standoff": 15
           },
           "zerolinecolor": "white",
           "zerolinewidth": 2
          }
         }
        },
        "width": 800
       }
      },
      "image/png": "[encoded data removed]",
      "text/html": [
       "<div>\n",
       "        \n",
       "        \n",
       "            <div id=\"5cb2c422-3ef3-4f84-9d59-8cd5ef6545fd\" class=\"plotly-graph-div\" style=\"height:700px; width:800px;\"></div>\n",
       "            <script type=\"text/javascript\">\n",
       "                require([\"plotly\"], function(Plotly) {\n",
       "                    window.PLOTLYENV=window.PLOTLYENV || {};\n",
       "                    \n",
       "                if (document.getElementById(\"5cb2c422-3ef3-4f84-9d59-8cd5ef6545fd\")) {\n",
       "                    Plotly.newPlot(\n",
       "                        '5cb2c422-3ef3-4f84-9d59-8cd5ef6545fd',\n",
       "                        [{\"hovertemplate\": \"<b>%{hovertext}</b><br><br>Borough=Queens<br>Rent 1BD=%{x}<br>Average Distance to Subway (miles)=%{y}<br>Crime=%{z}<extra></extra>\", \"hovertext\": [\"Bayswater\", \"Belle Harbor\", \"Breezy Point\", \"Broad Channel\", \"Rockaway Park\"], \"legendgroup\": \"Queens\", \"marker\": {\"color\": \"#636efa\", \"opacity\": 0.8, \"symbol\": \"circle\"}, \"mode\": \"markers\", \"name\": \"Queens\", \"scene\": \"scene\", \"showlegend\": true, \"type\": \"scatter3d\", \"x\": [1739, 1734, 1734, 1722, 1734], \"y\": [0.24, 0.43, 1.3, 0.5099999999999938, 0.12], \"z\": [0.03773096847712862, 0.02215945767704379, 0.0023956170461668963, 0.031143021600169123, 0.12337427787759515]}, {\"hovertemplate\": \"<b>%{hovertext}</b><br><br>Borough=Brooklyn<br>Rent 1BD=%{x}<br>Average Distance to Subway (miles)=%{y}<br>Crime=%{z}<extra></extra>\", \"hovertext\": [\"Bensonhurst\", \"Boerum Hill\", \"Brooklyn Heights\", \"Fort Hamilton\", \"Park Slope\", \"Windsor Terrace\"], \"legendgroup\": \"Brooklyn\", \"marker\": {\"color\": \"#EF553B\", \"opacity\": 0.8, \"symbol\": \"circle\"}, \"mode\": \"markers\", \"name\": \"Brooklyn\", \"scene\": \"scene\", \"showlegend\": true, \"type\": \"scatter3d\", \"x\": [1584, 2735, 3299, 1666, 2631, 2315], \"y\": [0.11, 0.06, 0.07, 0.17, 0.1, 0.09], \"z\": [0.6096845382494751, 0.6785585283267733, 0.03114302160016965, 0.25034198132444063, 0.05030795796950482, 0.058093713369547224]}, {\"hovertemplate\": \"<b>%{hovertext}</b><br><br>Borough=Bronx<br>Rent 1BD=%{x}<br>Average Distance to Subway (miles)=%{y}<br>Crime=%{z}<extra></extra>\", \"hovertext\": [\"Bronx Park\", \"Bronxdale\", \"Country Club\", \"East Morrisania\", \"Eastchester\", \"Fordham\", \"Mount Eden\", \"Olinville\", \"Parkchester\", \"Pelham Bay\", \"Pelham Bay Park\", \"Riverdale\", \"Soundview\", \"Spuyten Duyvil\", \"Van Cortlandt Park\", \"Van Nest\", \"Wakefield\", \"West Farms\", \"Williamsbridge\"], \"legendgroup\": \"Bronx\", \"marker\": {\"color\": \"#00cc96\", \"opacity\": 0.8, \"symbol\": \"circle\"}, \"mode\": \"markers\", \"name\": \"Bronx\", \"scene\": \"scene\", \"showlegend\": true, \"type\": \"scatter3d\", \"x\": [1545, 1595, 1651, 1545, 1599, 1538, 1740, 1555, 1545, 1675, 1599, 1879, 1505, 1737, 1740, 1599, 1552, 1563, 1475], \"y\": [0.21, 0.07, 0.36, 0.1, 0.21, 0.11, 0.06, 0.08, 0.13, 0.13, 0.6400000000000001, 0.41, 0.18, 0.27, 0.36, 0.18, 0.16, 0.09, 0.19], \"z\": [0.12636879918530378, 0.3856943444328703, 0.03114302160016965, 1.710470570963164, 0.05869261763108896, 3.422138950449411, 3.146642990140218, 1.380474322853674, 0.7324599118655285, 0.06827508581575653, 0.004791234092333795, 0.005989042615417241, 1.8230645721330079, 0.029945213077086207, 0.007186851138500689, 0.28747404554002753, 0.6504100280343124, 0.9133289988511292, 0.9834007974515108]}, {\"hovertemplate\": \"<b>%{hovertext}</b><br><br>Borough=Manhattan<br>Rent 1BD=%{x}<br>Average Distance to Subway (miles)=%{y}<br>Crime=%{z}<extra></extra>\", \"hovertext\": [\"Little Italy\", \"NoHo\"], \"legendgroup\": \"Manhattan\", \"marker\": {\"color\": \"#ab63fa\", \"opacity\": 0.8, \"symbol\": \"circle\"}, \"mode\": \"markers\", \"name\": \"Manhattan\", \"scene\": \"scene\", \"showlegend\": true, \"type\": \"scatter3d\", \"x\": [2747, 4039], \"y\": [0.05, 0.03], \"z\": [0.26052335377064995, 0.2323748534781889]}],\n",
       "                        {\"height\": 700, \"legend\": {\"title\": {\"text\": \"Borough\"}, \"tracegroupgap\": 0}, \"margin\": {\"b\": 20, \"l\": 0, \"r\": 0, \"t\": 0}, \"paper_bgcolor\": \"#f0f0f0\", \"scene\": {\"domain\": {\"x\": [0.0, 1.0], \"y\": [0.0, 1.0]}, \"xaxis\": {\"title\": {\"text\": \"Rent 1BD\"}}, \"yaxis\": {\"title\": {\"text\": \"Average Distance to Subway (miles)\"}}, \"zaxis\": {\"title\": {\"text\": \"Crime\"}}}, \"template\": {\"data\": {\"bar\": [{\"error_x\": {\"color\": \"#2a3f5f\"}, \"error_y\": {\"color\": \"#2a3f5f\"}, \"marker\": {\"line\": {\"color\": \"#E5ECF6\", \"width\": 0.5}}, \"type\": \"bar\"}], \"barpolar\": [{\"marker\": {\"line\": {\"color\": \"#E5ECF6\", \"width\": 0.5}}, \"type\": \"barpolar\"}], \"carpet\": [{\"aaxis\": {\"endlinecolor\": \"#2a3f5f\", \"gridcolor\": \"white\", \"linecolor\": \"white\", \"minorgridcolor\": \"white\", \"startlinecolor\": \"#2a3f5f\"}, \"baxis\": {\"endlinecolor\": \"#2a3f5f\", \"gridcolor\": \"white\", \"linecolor\": \"white\", \"minorgridcolor\": \"white\", \"startlinecolor\": \"#2a3f5f\"}, \"type\": \"carpet\"}], \"choropleth\": [{\"colorbar\": {\"outlinewidth\": 0, \"ticks\": \"\"}, \"type\": \"choropleth\"}], \"contour\": [{\"colorbar\": {\"outlinewidth\": 0, \"ticks\": \"\"}, \"colorscale\": [[0.0, \"#0d0887\"], [0.1111111111111111, \"#46039f\"], [0.2222222222222222, \"#7201a8\"], [0.3333333333333333, \"#9c179e\"], [0.4444444444444444, \"#bd3786\"], [0.5555555555555556, \"#d8576b\"], [0.6666666666666666, \"#ed7953\"], [0.7777777777777778, \"#fb9f3a\"], [0.8888888888888888, \"#fdca26\"], [1.0, \"#f0f921\"]], \"type\": \"contour\"}], \"contourcarpet\": [{\"colorbar\": {\"outlinewidth\": 0, \"ticks\": \"\"}, \"type\": \"contourcarpet\"}], \"heatmap\": [{\"colorbar\": {\"outlinewidth\": 0, \"ticks\": \"\"}, \"colorscale\": [[0.0, \"#0d0887\"], [0.1111111111111111, \"#46039f\"], [0.2222222222222222, \"#7201a8\"], [0.3333333333333333, \"#9c179e\"], [0.4444444444444444, \"#bd3786\"], [0.5555555555555556, \"#d8576b\"], [0.6666666666666666, \"#ed7953\"], [0.7777777777777778, \"#fb9f3a\"], [0.8888888888888888, \"#fdca26\"], [1.0, \"#f0f921\"]], \"type\": \"heatmap\"}], \"heatmapgl\": [{\"colorbar\": {\"outlinewidth\": 0, \"ticks\": \"\"}, \"colorscale\": [[0.0, \"#0d0887\"], [0.1111111111111111, \"#46039f\"], [0.2222222222222222, \"#7201a8\"], [0.3333333333333333, \"#9c179e\"], [0.4444444444444444, \"#bd3786\"], [0.5555555555555556, \"#d8576b\"], [0.6666666666666666, \"#ed7953\"], [0.7777777777777778, \"#fb9f3a\"], [0.8888888888888888, \"#fdca26\"], [1.0, \"#f0f921\"]], \"type\": \"heatmapgl\"}], \"histogram\": [{\"marker\": {\"colorbar\": {\"outlinewidth\": 0, \"ticks\": \"\"}}, \"type\": \"histogram\"}], \"histogram2d\": [{\"colorbar\": {\"outlinewidth\": 0, \"ticks\": \"\"}, \"colorscale\": [[0.0, \"#0d0887\"], [0.1111111111111111, \"#46039f\"], [0.2222222222222222, \"#7201a8\"], [0.3333333333333333, \"#9c179e\"], [0.4444444444444444, \"#bd3786\"], [0.5555555555555556, \"#d8576b\"], [0.6666666666666666, \"#ed7953\"], [0.7777777777777778, \"#fb9f3a\"], [0.8888888888888888, \"#fdca26\"], [1.0, \"#f0f921\"]], \"type\": \"histogram2d\"}], \"histogram2dcontour\": [{\"colorbar\": {\"outlinewidth\": 0, \"ticks\": \"\"}, \"colorscale\": [[0.0, \"#0d0887\"], [0.1111111111111111, \"#46039f\"], [0.2222222222222222, \"#7201a8\"], [0.3333333333333333, \"#9c179e\"], [0.4444444444444444, \"#bd3786\"], [0.5555555555555556, \"#d8576b\"], [0.6666666666666666, \"#ed7953\"], [0.7777777777777778, \"#fb9f3a\"], [0.8888888888888888, \"#fdca26\"], [1.0, \"#f0f921\"]], \"type\": \"histogram2dcontour\"}], \"mesh3d\": [{\"colorbar\": {\"outlinewidth\": 0, \"ticks\": \"\"}, \"type\": \"mesh3d\"}], \"parcoords\": [{\"line\": {\"colorbar\": {\"outlinewidth\": 0, \"ticks\": \"\"}}, \"type\": \"parcoords\"}], \"pie\": [{\"automargin\": true, \"type\": \"pie\"}], \"scatter\": [{\"marker\": {\"colorbar\": {\"outlinewidth\": 0, \"ticks\": \"\"}}, \"type\": \"scatter\"}], \"scatter3d\": [{\"line\": {\"colorbar\": {\"outlinewidth\": 0, \"ticks\": \"\"}}, \"marker\": {\"colorbar\": {\"outlinewidth\": 0, \"ticks\": \"\"}}, \"type\": \"scatter3d\"}], \"scattercarpet\": [{\"marker\": {\"colorbar\": {\"outlinewidth\": 0, \"ticks\": \"\"}}, \"type\": \"scattercarpet\"}], \"scattergeo\": [{\"marker\": {\"colorbar\": {\"outlinewidth\": 0, \"ticks\": \"\"}}, \"type\": \"scattergeo\"}], \"scattergl\": [{\"marker\": {\"colorbar\": {\"outlinewidth\": 0, \"ticks\": \"\"}}, \"type\": \"scattergl\"}], \"scattermapbox\": [{\"marker\": {\"colorbar\": {\"outlinewidth\": 0, \"ticks\": \"\"}}, \"type\": \"scattermapbox\"}], \"scatterpolar\": [{\"marker\": {\"colorbar\": {\"outlinewidth\": 0, \"ticks\": \"\"}}, \"type\": \"scatterpolar\"}], \"scatterpolargl\": [{\"marker\": {\"colorbar\": {\"outlinewidth\": 0, \"ticks\": \"\"}}, \"type\": \"scatterpolargl\"}], \"scatterternary\": [{\"marker\": {\"colorbar\": {\"outlinewidth\": 0, \"ticks\": \"\"}}, \"type\": \"scatterternary\"}], \"surface\": [{\"colorbar\": {\"outlinewidth\": 0, \"ticks\": \"\"}, \"colorscale\": [[0.0, \"#0d0887\"], [0.1111111111111111, \"#46039f\"], [0.2222222222222222, \"#7201a8\"], [0.3333333333333333, \"#9c179e\"], [0.4444444444444444, \"#bd3786\"], [0.5555555555555556, \"#d8576b\"], [0.6666666666666666, \"#ed7953\"], [0.7777777777777778, \"#fb9f3a\"], [0.8888888888888888, \"#fdca26\"], [1.0, \"#f0f921\"]], \"type\": \"surface\"}], \"table\": [{\"cells\": {\"fill\": {\"color\": \"#EBF0F8\"}, \"line\": {\"color\": \"white\"}}, \"header\": {\"fill\": {\"color\": \"#C8D4E3\"}, \"line\": {\"color\": \"white\"}}, \"type\": \"table\"}]}, \"layout\": {\"annotationdefaults\": {\"arrowcolor\": \"#2a3f5f\", \"arrowhead\": 0, \"arrowwidth\": 1}, \"coloraxis\": {\"colorbar\": {\"outlinewidth\": 0, \"ticks\": \"\"}}, \"colorscale\": {\"diverging\": [[0, \"#8e0152\"], [0.1, \"#c51b7d\"], [0.2, \"#de77ae\"], [0.3, \"#f1b6da\"], [0.4, \"#fde0ef\"], [0.5, \"#f7f7f7\"], [0.6, \"#e6f5d0\"], [0.7, \"#b8e186\"], [0.8, \"#7fbc41\"], [0.9, \"#4d9221\"], [1, \"#276419\"]], \"sequential\": [[0.0, \"#0d0887\"], [0.1111111111111111, \"#46039f\"], [0.2222222222222222, \"#7201a8\"], [0.3333333333333333, \"#9c179e\"], [0.4444444444444444, \"#bd3786\"], [0.5555555555555556, \"#d8576b\"], [0.6666666666666666, \"#ed7953\"], [0.7777777777777778, \"#fb9f3a\"], [0.8888888888888888, \"#fdca26\"], [1.0, \"#f0f921\"]], \"sequentialminus\": [[0.0, \"#0d0887\"], [0.1111111111111111, \"#46039f\"], [0.2222222222222222, \"#7201a8\"], [0.3333333333333333, \"#9c179e\"], [0.4444444444444444, \"#bd3786\"], [0.5555555555555556, \"#d8576b\"], [0.6666666666666666, \"#ed7953\"], [0.7777777777777778, \"#fb9f3a\"], [0.8888888888888888, \"#fdca26\"], [1.0, \"#f0f921\"]]}, \"colorway\": [\"#636efa\", \"#EF553B\", \"#00cc96\", \"#ab63fa\", \"#FFA15A\", \"#19d3f3\", \"#FF6692\", \"#B6E880\", \"#FF97FF\", \"#FECB52\"], \"font\": {\"color\": \"#2a3f5f\"}, \"geo\": {\"bgcolor\": \"white\", \"lakecolor\": \"white\", \"landcolor\": \"#E5ECF6\", \"showlakes\": true, \"showland\": true, \"subunitcolor\": \"white\"}, \"hoverlabel\": {\"align\": \"left\"}, \"hovermode\": \"closest\", \"mapbox\": {\"style\": \"light\"}, \"paper_bgcolor\": \"white\", \"plot_bgcolor\": \"#E5ECF6\", \"polar\": {\"angularaxis\": {\"gridcolor\": \"white\", \"linecolor\": \"white\", \"ticks\": \"\"}, \"bgcolor\": \"#E5ECF6\", \"radialaxis\": {\"gridcolor\": \"white\", \"linecolor\": \"white\", \"ticks\": \"\"}}, \"scene\": {\"xaxis\": {\"backgroundcolor\": \"#E5ECF6\", \"gridcolor\": \"white\", \"gridwidth\": 2, \"linecolor\": \"white\", \"showbackground\": true, \"ticks\": \"\", \"zerolinecolor\": \"white\"}, \"yaxis\": {\"backgroundcolor\": \"#E5ECF6\", \"gridcolor\": \"white\", \"gridwidth\": 2, \"linecolor\": \"white\", \"showbackground\": true, \"ticks\": \"\", \"zerolinecolor\": \"white\"}, \"zaxis\": {\"backgroundcolor\": \"#E5ECF6\", \"gridcolor\": \"white\", \"gridwidth\": 2, \"linecolor\": \"white\", \"showbackground\": true, \"ticks\": \"\", \"zerolinecolor\": \"white\"}}, \"shapedefaults\": {\"line\": {\"color\": \"#2a3f5f\"}}, \"ternary\": {\"aaxis\": {\"gridcolor\": \"white\", \"linecolor\": \"white\", \"ticks\": \"\"}, \"baxis\": {\"gridcolor\": \"white\", \"linecolor\": \"white\", \"ticks\": \"\"}, \"bgcolor\": \"#E5ECF6\", \"caxis\": {\"gridcolor\": \"white\", \"linecolor\": \"white\", \"ticks\": \"\"}}, \"title\": {\"x\": 0.05}, \"xaxis\": {\"automargin\": true, \"gridcolor\": \"white\", \"linecolor\": \"white\", \"ticks\": \"\", \"title\": {\"standoff\": 15}, \"zerolinecolor\": \"white\", \"zerolinewidth\": 2}, \"yaxis\": {\"automargin\": true, \"gridcolor\": \"white\", \"linecolor\": \"white\", \"ticks\": \"\", \"title\": {\"standoff\": 15}, \"zerolinecolor\": \"white\", \"zerolinewidth\": 2}}}, \"width\": 800},\n",
       "                        {\"responsive\": true}\n",
       "                    ).then(function(){\n",
       "                            \n",
       "var gd = document.getElementById('5cb2c422-3ef3-4f84-9d59-8cd5ef6545fd');\n",
       "var x = new MutationObserver(function (mutations, observer) {{\n",
       "        var display = window.getComputedStyle(gd).display;\n",
       "        if (!display || display === 'none') {{\n",
       "            console.log([gd, 'removed!']);\n",
       "            Plotly.purge(gd);\n",
       "            observer.disconnect();\n",
       "        }}\n",
       "}});\n",
       "\n",
       "// Listen for the removal of the full notebook cells\n",
       "var notebookContainer = gd.closest('#notebook-container');\n",
       "if (notebookContainer) {{\n",
       "    x.observe(notebookContainer, {childList: true});\n",
       "}}\n",
       "\n",
       "// Listen for the clearing of the current output cell\n",
       "var outputEl = gd.closest('.output');\n",
       "if (outputEl) {{\n",
       "    x.observe(outputEl, {childList: true});\n",
       "}}\n",
       "\n",
       "                        })\n",
       "                };\n",
       "                });\n",
       "            </script>\n",
       "        </div>"
      ]
     },
     "metadata": {},
     "output_type": "display_data"
    }
   ],
   "source": [
    "import plotly.express as px\n",
    "\n",
    "fig = px.scatter_3d(merged[pareto_efficient_2].reset_index(), x= 'Rent 1BD',y='Average Distance to Subway (miles)',z = 'Crime',size_max=1,color='Borough',\n",
    "                    opacity=0.8,hover_name='Neighborhood')\n",
    "\n",
    "\n",
    "fig.update_layout(\n",
    "    height=700,\n",
    "    width=800,\n",
    "    margin=dict(r=0, l=0, b=20, t=0),\n",
    "     paper_bgcolor= '#f0f0f0',)\n",
    "\n",
    "fig.write_html('../../semodi.github.io/_includes/pareto_3d.html',include_mathjax=False, include_plotlyjs='cdn')\n",
    "fig.show()\n"
   ]
  },
  {
   "cell_type": "code",
   "execution_count": 47,
   "metadata": {},
   "outputs": [],
   "source": [
    "radar_data = merged"
   ]
  },
  {
   "cell_type": "code",
   "execution_count": 48,
   "metadata": {},
   "outputs": [],
   "source": [
    "num_col = [col for col in merged.columns if np.issubdtype(merged[col].dtype, np.number)]"
   ]
  },
  {
   "cell_type": "code",
   "execution_count": 49,
   "metadata": {},
   "outputs": [],
   "source": [
    "radar_data.loc[:,num_col] = 1 - StandardScaler().fit_transform(radar_data.loc[:,num_col])"
   ]
  },
  {
   "cell_type": "code",
   "execution_count": 50,
   "metadata": {},
   "outputs": [],
   "source": [
    "radar_data.to_csv('normalized_data.csv')"
   ]
  },
  {
   "cell_type": "code",
   "execution_count": 24,
   "metadata": {},
   "outputs": [],
   "source": [
    "radar_data.loc[:,num_col]=radar_data.loc[:,num_col]**2"
   ]
  },
  {
   "cell_type": "code",
   "execution_count": 25,
   "metadata": {},
   "outputs": [],
   "source": [
    "radar_data_pareto = radar_data[pareto_efficient].groupby('Borough').mean()\n",
    "radar_data = radar_data.groupby('Borough').mean()"
   ]
  },
  {
   "cell_type": "code",
   "execution_count": 40,
   "metadata": {},
   "outputs": [
    {
     "data": {
      "application/vnd.plotly.v1+json": {
       "config": {
        "plotlyServerURL": "https://plot.ly"
       },
       "data": [
        {
         "fill": "none",
         "hoverinfo": "none",
         "name": "Bronx",
         "r": [
          0.9054723857165572,
          0.7927165235576825,
          0.850777707189486,
          0.22812075365748063,
          0.07792499307650824,
          0.9054723857165572
         ],
         "theta": [
          "Rent",
          "Dist. from Subway",
          "Safety",
          "Dist. from Midtown",
          "Venue density",
          "Rent"
         ],
         "type": "scatterpolar"
        },
        {
         "fill": "none",
         "hoverinfo": "none",
         "name": "Brooklyn",
         "r": [
          0.5125870413369605,
          0.8706168076133938,
          0.8728635311231348,
          0.39221779327012213,
          0.33980074449282666,
          0.5125870413369605
         ],
         "theta": [
          "Rent",
          "Dist. from Subway",
          "Safety",
          "Dist. from Midtown",
          "Venue density",
          "Rent"
         ],
         "type": "scatterpolar"
        },
        {
         "fill": "none",
         "hoverinfo": "none",
         "name": "Manhattan",
         "r": [
          0.328246585075119,
          0.9338377643189724,
          0.7723840883680914,
          0.7031522352883411,
          0.751180306276725,
          0.328246585075119
         ],
         "theta": [
          "Rent",
          "Dist. from Subway",
          "Safety",
          "Dist. from Midtown",
          "Venue density",
          "Rent"
         ],
         "type": "scatterpolar"
        },
        {
         "fill": "none",
         "hoverinfo": "none",
         "name": "Queens",
         "r": [
          0.8260760109845188,
          0.6652263266906635,
          0.9493923612095301,
          0.27550494193896824,
          0.11545352515049484,
          0.8260760109845188
         ],
         "theta": [
          "Rent",
          "Dist. from Subway",
          "Safety",
          "Dist. from Midtown",
          "Venue density",
          "Rent"
         ],
         "type": "scatterpolar"
        }
       ],
       "layout": {
        "height": 300,
        "margin": {
         "b": 10,
         "l": 0,
         "r": 0,
         "t": 10
        },
        "paper_bgcolor": "#f0f0f0",
        "polar": {
         "angularaxis": {
          "type": "category"
         },
         "bgcolor": "#cfcfcf",
         "radialaxis": {
          "autorange": false,
          "range": [
           0,
           1
          ],
          "tickvals": [],
          "type": "linear",
          "visible": true
         }
        },
        "showlegend": true,
        "template": {
         "data": {
          "bar": [
           {
            "error_x": {
             "color": "#2a3f5f"
            },
            "error_y": {
             "color": "#2a3f5f"
            },
            "marker": {
             "line": {
              "color": "#E5ECF6",
              "width": 0.5
             }
            },
            "type": "bar"
           }
          ],
          "barpolar": [
           {
            "marker": {
             "line": {
              "color": "#E5ECF6",
              "width": 0.5
             }
            },
            "type": "barpolar"
           }
          ],
          "carpet": [
           {
            "aaxis": {
             "endlinecolor": "#2a3f5f",
             "gridcolor": "white",
             "linecolor": "white",
             "minorgridcolor": "white",
             "startlinecolor": "#2a3f5f"
            },
            "baxis": {
             "endlinecolor": "#2a3f5f",
             "gridcolor": "white",
             "linecolor": "white",
             "minorgridcolor": "white",
             "startlinecolor": "#2a3f5f"
            },
            "type": "carpet"
           }
          ],
          "choropleth": [
           {
            "colorbar": {
             "outlinewidth": 0,
             "ticks": ""
            },
            "type": "choropleth"
           }
          ],
          "contour": [
           {
            "colorbar": {
             "outlinewidth": 0,
             "ticks": ""
            },
            "colorscale": [
             [
              0,
              "#0d0887"
             ],
             [
              0.1111111111111111,
              "#46039f"
             ],
             [
              0.2222222222222222,
              "#7201a8"
             ],
             [
              0.3333333333333333,
              "#9c179e"
             ],
             [
              0.4444444444444444,
              "#bd3786"
             ],
             [
              0.5555555555555556,
              "#d8576b"
             ],
             [
              0.6666666666666666,
              "#ed7953"
             ],
             [
              0.7777777777777778,
              "#fb9f3a"
             ],
             [
              0.8888888888888888,
              "#fdca26"
             ],
             [
              1,
              "#f0f921"
             ]
            ],
            "type": "contour"
           }
          ],
          "contourcarpet": [
           {
            "colorbar": {
             "outlinewidth": 0,
             "ticks": ""
            },
            "type": "contourcarpet"
           }
          ],
          "heatmap": [
           {
            "colorbar": {
             "outlinewidth": 0,
             "ticks": ""
            },
            "colorscale": [
             [
              0,
              "#0d0887"
             ],
             [
              0.1111111111111111,
              "#46039f"
             ],
             [
              0.2222222222222222,
              "#7201a8"
             ],
             [
              0.3333333333333333,
              "#9c179e"
             ],
             [
              0.4444444444444444,
              "#bd3786"
             ],
             [
              0.5555555555555556,
              "#d8576b"
             ],
             [
              0.6666666666666666,
              "#ed7953"
             ],
             [
              0.7777777777777778,
              "#fb9f3a"
             ],
             [
              0.8888888888888888,
              "#fdca26"
             ],
             [
              1,
              "#f0f921"
             ]
            ],
            "type": "heatmap"
           }
          ],
          "heatmapgl": [
           {
            "colorbar": {
             "outlinewidth": 0,
             "ticks": ""
            },
            "colorscale": [
             [
              0,
              "#0d0887"
             ],
             [
              0.1111111111111111,
              "#46039f"
             ],
             [
              0.2222222222222222,
              "#7201a8"
             ],
             [
              0.3333333333333333,
              "#9c179e"
             ],
             [
              0.4444444444444444,
              "#bd3786"
             ],
             [
              0.5555555555555556,
              "#d8576b"
             ],
             [
              0.6666666666666666,
              "#ed7953"
             ],
             [
              0.7777777777777778,
              "#fb9f3a"
             ],
             [
              0.8888888888888888,
              "#fdca26"
             ],
             [
              1,
              "#f0f921"
             ]
            ],
            "type": "heatmapgl"
           }
          ],
          "histogram": [
           {
            "marker": {
             "colorbar": {
              "outlinewidth": 0,
              "ticks": ""
             }
            },
            "type": "histogram"
           }
          ],
          "histogram2d": [
           {
            "colorbar": {
             "outlinewidth": 0,
             "ticks": ""
            },
            "colorscale": [
             [
              0,
              "#0d0887"
             ],
             [
              0.1111111111111111,
              "#46039f"
             ],
             [
              0.2222222222222222,
              "#7201a8"
             ],
             [
              0.3333333333333333,
              "#9c179e"
             ],
             [
              0.4444444444444444,
              "#bd3786"
             ],
             [
              0.5555555555555556,
              "#d8576b"
             ],
             [
              0.6666666666666666,
              "#ed7953"
             ],
             [
              0.7777777777777778,
              "#fb9f3a"
             ],
             [
              0.8888888888888888,
              "#fdca26"
             ],
             [
              1,
              "#f0f921"
             ]
            ],
            "type": "histogram2d"
           }
          ],
          "histogram2dcontour": [
           {
            "colorbar": {
             "outlinewidth": 0,
             "ticks": ""
            },
            "colorscale": [
             [
              0,
              "#0d0887"
             ],
             [
              0.1111111111111111,
              "#46039f"
             ],
             [
              0.2222222222222222,
              "#7201a8"
             ],
             [
              0.3333333333333333,
              "#9c179e"
             ],
             [
              0.4444444444444444,
              "#bd3786"
             ],
             [
              0.5555555555555556,
              "#d8576b"
             ],
             [
              0.6666666666666666,
              "#ed7953"
             ],
             [
              0.7777777777777778,
              "#fb9f3a"
             ],
             [
              0.8888888888888888,
              "#fdca26"
             ],
             [
              1,
              "#f0f921"
             ]
            ],
            "type": "histogram2dcontour"
           }
          ],
          "mesh3d": [
           {
            "colorbar": {
             "outlinewidth": 0,
             "ticks": ""
            },
            "type": "mesh3d"
           }
          ],
          "parcoords": [
           {
            "line": {
             "colorbar": {
              "outlinewidth": 0,
              "ticks": ""
             }
            },
            "type": "parcoords"
           }
          ],
          "pie": [
           {
            "automargin": true,
            "type": "pie"
           }
          ],
          "scatter": [
           {
            "marker": {
             "colorbar": {
              "outlinewidth": 0,
              "ticks": ""
             }
            },
            "type": "scatter"
           }
          ],
          "scatter3d": [
           {
            "line": {
             "colorbar": {
              "outlinewidth": 0,
              "ticks": ""
             }
            },
            "marker": {
             "colorbar": {
              "outlinewidth": 0,
              "ticks": ""
             }
            },
            "type": "scatter3d"
           }
          ],
          "scattercarpet": [
           {
            "marker": {
             "colorbar": {
              "outlinewidth": 0,
              "ticks": ""
             }
            },
            "type": "scattercarpet"
           }
          ],
          "scattergeo": [
           {
            "marker": {
             "colorbar": {
              "outlinewidth": 0,
              "ticks": ""
             }
            },
            "type": "scattergeo"
           }
          ],
          "scattergl": [
           {
            "marker": {
             "colorbar": {
              "outlinewidth": 0,
              "ticks": ""
             }
            },
            "type": "scattergl"
           }
          ],
          "scattermapbox": [
           {
            "marker": {
             "colorbar": {
              "outlinewidth": 0,
              "ticks": ""
             }
            },
            "type": "scattermapbox"
           }
          ],
          "scatterpolar": [
           {
            "marker": {
             "colorbar": {
              "outlinewidth": 0,
              "ticks": ""
             }
            },
            "type": "scatterpolar"
           }
          ],
          "scatterpolargl": [
           {
            "marker": {
             "colorbar": {
              "outlinewidth": 0,
              "ticks": ""
             }
            },
            "type": "scatterpolargl"
           }
          ],
          "scatterternary": [
           {
            "marker": {
             "colorbar": {
              "outlinewidth": 0,
              "ticks": ""
             }
            },
            "type": "scatterternary"
           }
          ],
          "surface": [
           {
            "colorbar": {
             "outlinewidth": 0,
             "ticks": ""
            },
            "colorscale": [
             [
              0,
              "#0d0887"
             ],
             [
              0.1111111111111111,
              "#46039f"
             ],
             [
              0.2222222222222222,
              "#7201a8"
             ],
             [
              0.3333333333333333,
              "#9c179e"
             ],
             [
              0.4444444444444444,
              "#bd3786"
             ],
             [
              0.5555555555555556,
              "#d8576b"
             ],
             [
              0.6666666666666666,
              "#ed7953"
             ],
             [
              0.7777777777777778,
              "#fb9f3a"
             ],
             [
              0.8888888888888888,
              "#fdca26"
             ],
             [
              1,
              "#f0f921"
             ]
            ],
            "type": "surface"
           }
          ],
          "table": [
           {
            "cells": {
             "fill": {
              "color": "#EBF0F8"
             },
             "line": {
              "color": "white"
             }
            },
            "header": {
             "fill": {
              "color": "#C8D4E3"
             },
             "line": {
              "color": "white"
             }
            },
            "type": "table"
           }
          ]
         },
         "layout": {
          "annotationdefaults": {
           "arrowcolor": "#2a3f5f",
           "arrowhead": 0,
           "arrowwidth": 1
          },
          "coloraxis": {
           "colorbar": {
            "outlinewidth": 0,
            "ticks": ""
           }
          },
          "colorscale": {
           "diverging": [
            [
             0,
             "#8e0152"
            ],
            [
             0.1,
             "#c51b7d"
            ],
            [
             0.2,
             "#de77ae"
            ],
            [
             0.3,
             "#f1b6da"
            ],
            [
             0.4,
             "#fde0ef"
            ],
            [
             0.5,
             "#f7f7f7"
            ],
            [
             0.6,
             "#e6f5d0"
            ],
            [
             0.7,
             "#b8e186"
            ],
            [
             0.8,
             "#7fbc41"
            ],
            [
             0.9,
             "#4d9221"
            ],
            [
             1,
             "#276419"
            ]
           ],
           "sequential": [
            [
             0,
             "#0d0887"
            ],
            [
             0.1111111111111111,
             "#46039f"
            ],
            [
             0.2222222222222222,
             "#7201a8"
            ],
            [
             0.3333333333333333,
             "#9c179e"
            ],
            [
             0.4444444444444444,
             "#bd3786"
            ],
            [
             0.5555555555555556,
             "#d8576b"
            ],
            [
             0.6666666666666666,
             "#ed7953"
            ],
            [
             0.7777777777777778,
             "#fb9f3a"
            ],
            [
             0.8888888888888888,
             "#fdca26"
            ],
            [
             1,
             "#f0f921"
            ]
           ],
           "sequentialminus": [
            [
             0,
             "#0d0887"
            ],
            [
             0.1111111111111111,
             "#46039f"
            ],
            [
             0.2222222222222222,
             "#7201a8"
            ],
            [
             0.3333333333333333,
             "#9c179e"
            ],
            [
             0.4444444444444444,
             "#bd3786"
            ],
            [
             0.5555555555555556,
             "#d8576b"
            ],
            [
             0.6666666666666666,
             "#ed7953"
            ],
            [
             0.7777777777777778,
             "#fb9f3a"
            ],
            [
             0.8888888888888888,
             "#fdca26"
            ],
            [
             1,
             "#f0f921"
            ]
           ]
          },
          "colorway": [
           "#636efa",
           "#EF553B",
           "#00cc96",
           "#ab63fa",
           "#FFA15A",
           "#19d3f3",
           "#FF6692",
           "#B6E880",
           "#FF97FF",
           "#FECB52"
          ],
          "font": {
           "color": "#2a3f5f"
          },
          "geo": {
           "bgcolor": "white",
           "lakecolor": "white",
           "landcolor": "#E5ECF6",
           "showlakes": true,
           "showland": true,
           "subunitcolor": "white"
          },
          "hoverlabel": {
           "align": "left"
          },
          "hovermode": "closest",
          "mapbox": {
           "style": "light"
          },
          "paper_bgcolor": "white",
          "plot_bgcolor": "#E5ECF6",
          "polar": {
           "angularaxis": {
            "gridcolor": "white",
            "linecolor": "white",
            "ticks": ""
           },
           "bgcolor": "#E5ECF6",
           "radialaxis": {
            "gridcolor": "white",
            "linecolor": "white",
            "ticks": ""
           }
          },
          "scene": {
           "xaxis": {
            "backgroundcolor": "#E5ECF6",
            "gridcolor": "white",
            "gridwidth": 2,
            "linecolor": "white",
            "showbackground": true,
            "ticks": "",
            "zerolinecolor": "white"
           },
           "yaxis": {
            "backgroundcolor": "#E5ECF6",
            "gridcolor": "white",
            "gridwidth": 2,
            "linecolor": "white",
            "showbackground": true,
            "ticks": "",
            "zerolinecolor": "white"
           },
           "zaxis": {
            "backgroundcolor": "#E5ECF6",
            "gridcolor": "white",
            "gridwidth": 2,
            "linecolor": "white",
            "showbackground": true,
            "ticks": "",
            "zerolinecolor": "white"
           }
          },
          "shapedefaults": {
           "line": {
            "color": "#2a3f5f"
           }
          },
          "ternary": {
           "aaxis": {
            "gridcolor": "white",
            "linecolor": "white",
            "ticks": ""
           },
           "baxis": {
            "gridcolor": "white",
            "linecolor": "white",
            "ticks": ""
           },
           "bgcolor": "#E5ECF6",
           "caxis": {
            "gridcolor": "white",
            "linecolor": "white",
            "ticks": ""
           }
          },
          "title": {
           "x": 0.05
          },
          "xaxis": {
           "automargin": true,
           "gridcolor": "white",
           "linecolor": "white",
           "ticks": "",
           "title": {
            "standoff": 15
           },
           "zerolinecolor": "white",
           "zerolinewidth": 2
          },
          "yaxis": {
           "automargin": true,
           "gridcolor": "white",
           "linecolor": "white",
           "ticks": "",
           "title": {
            "standoff": 15
           },
           "zerolinecolor": "white",
           "zerolinewidth": 2
          }
         }
        },
        "width": 600,
        "xaxis": {
         "gridcolor": "#cfcfcf"
        },
        "yaxis": {
         "gridcolor": "#cfcfcf"
        }
       }
      },
      "image/png": "[encoded data removed]",
      "text/html": [
       "<div>\n",
       "        \n",
       "        \n",
       "            <div id=\"eb3b4503-9d2a-4484-814e-4904dd1935c0\" class=\"plotly-graph-div\" style=\"height:300px; width:600px;\"></div>\n",
       "            <script type=\"text/javascript\">\n",
       "                require([\"plotly\"], function(Plotly) {\n",
       "                    window.PLOTLYENV=window.PLOTLYENV || {};\n",
       "                    \n",
       "                if (document.getElementById(\"eb3b4503-9d2a-4484-814e-4904dd1935c0\")) {\n",
       "                    Plotly.newPlot(\n",
       "                        'eb3b4503-9d2a-4484-814e-4904dd1935c0',\n",
       "                        [{\"fill\": \"none\", \"hoverinfo\": \"none\", \"name\": \"Bronx\", \"r\": [0.9054723857165572, 0.7927165235576825, 0.850777707189486, 0.22812075365748063, 0.07792499307650824, 0.9054723857165572], \"theta\": [\"Rent\", \"Dist. from Subway\", \"Safety\", \"Dist. from Midtown\", \"Venue density\", \"Rent\"], \"type\": \"scatterpolar\"}, {\"fill\": \"none\", \"hoverinfo\": \"none\", \"name\": \"Brooklyn\", \"r\": [0.5125870413369605, 0.8706168076133938, 0.8728635311231348, 0.39221779327012213, 0.33980074449282666, 0.5125870413369605], \"theta\": [\"Rent\", \"Dist. from Subway\", \"Safety\", \"Dist. from Midtown\", \"Venue density\", \"Rent\"], \"type\": \"scatterpolar\"}, {\"fill\": \"none\", \"hoverinfo\": \"none\", \"name\": \"Manhattan\", \"r\": [0.328246585075119, 0.9338377643189724, 0.7723840883680914, 0.7031522352883411, 0.751180306276725, 0.328246585075119], \"theta\": [\"Rent\", \"Dist. from Subway\", \"Safety\", \"Dist. from Midtown\", \"Venue density\", \"Rent\"], \"type\": \"scatterpolar\"}, {\"fill\": \"none\", \"hoverinfo\": \"none\", \"name\": \"Queens\", \"r\": [0.8260760109845188, 0.6652263266906635, 0.9493923612095301, 0.27550494193896824, 0.11545352515049484, 0.8260760109845188], \"theta\": [\"Rent\", \"Dist. from Subway\", \"Safety\", \"Dist. from Midtown\", \"Venue density\", \"Rent\"], \"type\": \"scatterpolar\"}],\n",
       "                        {\"height\": 300, \"margin\": {\"b\": 10, \"l\": 0, \"r\": 0, \"t\": 10}, \"paper_bgcolor\": \"#f0f0f0\", \"polar\": {\"bgcolor\": \"#cfcfcf\", \"radialaxis\": {\"range\": [0, 1], \"tickvals\": [], \"visible\": true}}, \"showlegend\": true, \"template\": {\"data\": {\"bar\": [{\"error_x\": {\"color\": \"#2a3f5f\"}, \"error_y\": {\"color\": \"#2a3f5f\"}, \"marker\": {\"line\": {\"color\": \"#E5ECF6\", \"width\": 0.5}}, \"type\": \"bar\"}], \"barpolar\": [{\"marker\": {\"line\": {\"color\": \"#E5ECF6\", \"width\": 0.5}}, \"type\": \"barpolar\"}], \"carpet\": [{\"aaxis\": {\"endlinecolor\": \"#2a3f5f\", \"gridcolor\": \"white\", \"linecolor\": \"white\", \"minorgridcolor\": \"white\", \"startlinecolor\": \"#2a3f5f\"}, \"baxis\": {\"endlinecolor\": \"#2a3f5f\", \"gridcolor\": \"white\", \"linecolor\": \"white\", \"minorgridcolor\": \"white\", \"startlinecolor\": \"#2a3f5f\"}, \"type\": \"carpet\"}], \"choropleth\": [{\"colorbar\": {\"outlinewidth\": 0, \"ticks\": \"\"}, \"type\": \"choropleth\"}], \"contour\": [{\"colorbar\": {\"outlinewidth\": 0, \"ticks\": \"\"}, \"colorscale\": [[0.0, \"#0d0887\"], [0.1111111111111111, \"#46039f\"], [0.2222222222222222, \"#7201a8\"], [0.3333333333333333, \"#9c179e\"], [0.4444444444444444, \"#bd3786\"], [0.5555555555555556, \"#d8576b\"], [0.6666666666666666, \"#ed7953\"], [0.7777777777777778, \"#fb9f3a\"], [0.8888888888888888, \"#fdca26\"], [1.0, \"#f0f921\"]], \"type\": \"contour\"}], \"contourcarpet\": [{\"colorbar\": {\"outlinewidth\": 0, \"ticks\": \"\"}, \"type\": \"contourcarpet\"}], \"heatmap\": [{\"colorbar\": {\"outlinewidth\": 0, \"ticks\": \"\"}, \"colorscale\": [[0.0, \"#0d0887\"], [0.1111111111111111, \"#46039f\"], [0.2222222222222222, \"#7201a8\"], [0.3333333333333333, \"#9c179e\"], [0.4444444444444444, \"#bd3786\"], [0.5555555555555556, \"#d8576b\"], [0.6666666666666666, \"#ed7953\"], [0.7777777777777778, \"#fb9f3a\"], [0.8888888888888888, \"#fdca26\"], [1.0, \"#f0f921\"]], \"type\": \"heatmap\"}], \"heatmapgl\": [{\"colorbar\": {\"outlinewidth\": 0, \"ticks\": \"\"}, \"colorscale\": [[0.0, \"#0d0887\"], [0.1111111111111111, \"#46039f\"], [0.2222222222222222, \"#7201a8\"], [0.3333333333333333, \"#9c179e\"], [0.4444444444444444, \"#bd3786\"], [0.5555555555555556, \"#d8576b\"], [0.6666666666666666, \"#ed7953\"], [0.7777777777777778, \"#fb9f3a\"], [0.8888888888888888, \"#fdca26\"], [1.0, \"#f0f921\"]], \"type\": \"heatmapgl\"}], \"histogram\": [{\"marker\": {\"colorbar\": {\"outlinewidth\": 0, \"ticks\": \"\"}}, \"type\": \"histogram\"}], \"histogram2d\": [{\"colorbar\": {\"outlinewidth\": 0, \"ticks\": \"\"}, \"colorscale\": [[0.0, \"#0d0887\"], [0.1111111111111111, \"#46039f\"], [0.2222222222222222, \"#7201a8\"], [0.3333333333333333, \"#9c179e\"], [0.4444444444444444, \"#bd3786\"], [0.5555555555555556, \"#d8576b\"], [0.6666666666666666, \"#ed7953\"], [0.7777777777777778, \"#fb9f3a\"], [0.8888888888888888, \"#fdca26\"], [1.0, \"#f0f921\"]], \"type\": \"histogram2d\"}], \"histogram2dcontour\": [{\"colorbar\": {\"outlinewidth\": 0, \"ticks\": \"\"}, \"colorscale\": [[0.0, \"#0d0887\"], [0.1111111111111111, \"#46039f\"], [0.2222222222222222, \"#7201a8\"], [0.3333333333333333, \"#9c179e\"], [0.4444444444444444, \"#bd3786\"], [0.5555555555555556, \"#d8576b\"], [0.6666666666666666, \"#ed7953\"], [0.7777777777777778, \"#fb9f3a\"], [0.8888888888888888, \"#fdca26\"], [1.0, \"#f0f921\"]], \"type\": \"histogram2dcontour\"}], \"mesh3d\": [{\"colorbar\": {\"outlinewidth\": 0, \"ticks\": \"\"}, \"type\": \"mesh3d\"}], \"parcoords\": [{\"line\": {\"colorbar\": {\"outlinewidth\": 0, \"ticks\": \"\"}}, \"type\": \"parcoords\"}], \"pie\": [{\"automargin\": true, \"type\": \"pie\"}], \"scatter\": [{\"marker\": {\"colorbar\": {\"outlinewidth\": 0, \"ticks\": \"\"}}, \"type\": \"scatter\"}], \"scatter3d\": [{\"line\": {\"colorbar\": {\"outlinewidth\": 0, \"ticks\": \"\"}}, \"marker\": {\"colorbar\": {\"outlinewidth\": 0, \"ticks\": \"\"}}, \"type\": \"scatter3d\"}], \"scattercarpet\": [{\"marker\": {\"colorbar\": {\"outlinewidth\": 0, \"ticks\": \"\"}}, \"type\": \"scattercarpet\"}], \"scattergeo\": [{\"marker\": {\"colorbar\": {\"outlinewidth\": 0, \"ticks\": \"\"}}, \"type\": \"scattergeo\"}], \"scattergl\": [{\"marker\": {\"colorbar\": {\"outlinewidth\": 0, \"ticks\": \"\"}}, \"type\": \"scattergl\"}], \"scattermapbox\": [{\"marker\": {\"colorbar\": {\"outlinewidth\": 0, \"ticks\": \"\"}}, \"type\": \"scattermapbox\"}], \"scatterpolar\": [{\"marker\": {\"colorbar\": {\"outlinewidth\": 0, \"ticks\": \"\"}}, \"type\": \"scatterpolar\"}], \"scatterpolargl\": [{\"marker\": {\"colorbar\": {\"outlinewidth\": 0, \"ticks\": \"\"}}, \"type\": \"scatterpolargl\"}], \"scatterternary\": [{\"marker\": {\"colorbar\": {\"outlinewidth\": 0, \"ticks\": \"\"}}, \"type\": \"scatterternary\"}], \"surface\": [{\"colorbar\": {\"outlinewidth\": 0, \"ticks\": \"\"}, \"colorscale\": [[0.0, \"#0d0887\"], [0.1111111111111111, \"#46039f\"], [0.2222222222222222, \"#7201a8\"], [0.3333333333333333, \"#9c179e\"], [0.4444444444444444, \"#bd3786\"], [0.5555555555555556, \"#d8576b\"], [0.6666666666666666, \"#ed7953\"], [0.7777777777777778, \"#fb9f3a\"], [0.8888888888888888, \"#fdca26\"], [1.0, \"#f0f921\"]], \"type\": \"surface\"}], \"table\": [{\"cells\": {\"fill\": {\"color\": \"#EBF0F8\"}, \"line\": {\"color\": \"white\"}}, \"header\": {\"fill\": {\"color\": \"#C8D4E3\"}, \"line\": {\"color\": \"white\"}}, \"type\": \"table\"}]}, \"layout\": {\"annotationdefaults\": {\"arrowcolor\": \"#2a3f5f\", \"arrowhead\": 0, \"arrowwidth\": 1}, \"coloraxis\": {\"colorbar\": {\"outlinewidth\": 0, \"ticks\": \"\"}}, \"colorscale\": {\"diverging\": [[0, \"#8e0152\"], [0.1, \"#c51b7d\"], [0.2, \"#de77ae\"], [0.3, \"#f1b6da\"], [0.4, \"#fde0ef\"], [0.5, \"#f7f7f7\"], [0.6, \"#e6f5d0\"], [0.7, \"#b8e186\"], [0.8, \"#7fbc41\"], [0.9, \"#4d9221\"], [1, \"#276419\"]], \"sequential\": [[0.0, \"#0d0887\"], [0.1111111111111111, \"#46039f\"], [0.2222222222222222, \"#7201a8\"], [0.3333333333333333, \"#9c179e\"], [0.4444444444444444, \"#bd3786\"], [0.5555555555555556, \"#d8576b\"], [0.6666666666666666, \"#ed7953\"], [0.7777777777777778, \"#fb9f3a\"], [0.8888888888888888, \"#fdca26\"], [1.0, \"#f0f921\"]], \"sequentialminus\": [[0.0, \"#0d0887\"], [0.1111111111111111, \"#46039f\"], [0.2222222222222222, \"#7201a8\"], [0.3333333333333333, \"#9c179e\"], [0.4444444444444444, \"#bd3786\"], [0.5555555555555556, \"#d8576b\"], [0.6666666666666666, \"#ed7953\"], [0.7777777777777778, \"#fb9f3a\"], [0.8888888888888888, \"#fdca26\"], [1.0, \"#f0f921\"]]}, \"colorway\": [\"#636efa\", \"#EF553B\", \"#00cc96\", \"#ab63fa\", \"#FFA15A\", \"#19d3f3\", \"#FF6692\", \"#B6E880\", \"#FF97FF\", \"#FECB52\"], \"font\": {\"color\": \"#2a3f5f\"}, \"geo\": {\"bgcolor\": \"white\", \"lakecolor\": \"white\", \"landcolor\": \"#E5ECF6\", \"showlakes\": true, \"showland\": true, \"subunitcolor\": \"white\"}, \"hoverlabel\": {\"align\": \"left\"}, \"hovermode\": \"closest\", \"mapbox\": {\"style\": \"light\"}, \"paper_bgcolor\": \"white\", \"plot_bgcolor\": \"#E5ECF6\", \"polar\": {\"angularaxis\": {\"gridcolor\": \"white\", \"linecolor\": \"white\", \"ticks\": \"\"}, \"bgcolor\": \"#E5ECF6\", \"radialaxis\": {\"gridcolor\": \"white\", \"linecolor\": \"white\", \"ticks\": \"\"}}, \"scene\": {\"xaxis\": {\"backgroundcolor\": \"#E5ECF6\", \"gridcolor\": \"white\", \"gridwidth\": 2, \"linecolor\": \"white\", \"showbackground\": true, \"ticks\": \"\", \"zerolinecolor\": \"white\"}, \"yaxis\": {\"backgroundcolor\": \"#E5ECF6\", \"gridcolor\": \"white\", \"gridwidth\": 2, \"linecolor\": \"white\", \"showbackground\": true, \"ticks\": \"\", \"zerolinecolor\": \"white\"}, \"zaxis\": {\"backgroundcolor\": \"#E5ECF6\", \"gridcolor\": \"white\", \"gridwidth\": 2, \"linecolor\": \"white\", \"showbackground\": true, \"ticks\": \"\", \"zerolinecolor\": \"white\"}}, \"shapedefaults\": {\"line\": {\"color\": \"#2a3f5f\"}}, \"ternary\": {\"aaxis\": {\"gridcolor\": \"white\", \"linecolor\": \"white\", \"ticks\": \"\"}, \"baxis\": {\"gridcolor\": \"white\", \"linecolor\": \"white\", \"ticks\": \"\"}, \"bgcolor\": \"#E5ECF6\", \"caxis\": {\"gridcolor\": \"white\", \"linecolor\": \"white\", \"ticks\": \"\"}}, \"title\": {\"x\": 0.05}, \"xaxis\": {\"automargin\": true, \"gridcolor\": \"white\", \"linecolor\": \"white\", \"ticks\": \"\", \"title\": {\"standoff\": 15}, \"zerolinecolor\": \"white\", \"zerolinewidth\": 2}, \"yaxis\": {\"automargin\": true, \"gridcolor\": \"white\", \"linecolor\": \"white\", \"ticks\": \"\", \"title\": {\"standoff\": 15}, \"zerolinecolor\": \"white\", \"zerolinewidth\": 2}}}, \"width\": 600, \"xaxis\": {\"gridcolor\": \"#cfcfcf\"}, \"yaxis\": {\"gridcolor\": \"#cfcfcf\"}},\n",
       "                        {\"responsive\": true}\n",
       "                    ).then(function(){\n",
       "                            \n",
       "var gd = document.getElementById('eb3b4503-9d2a-4484-814e-4904dd1935c0');\n",
       "var x = new MutationObserver(function (mutations, observer) {{\n",
       "        var display = window.getComputedStyle(gd).display;\n",
       "        if (!display || display === 'none') {{\n",
       "            console.log([gd, 'removed!']);\n",
       "            Plotly.purge(gd);\n",
       "            observer.disconnect();\n",
       "        }}\n",
       "}});\n",
       "\n",
       "// Listen for the removal of the full notebook cells\n",
       "var notebookContainer = gd.closest('#notebook-container');\n",
       "if (notebookContainer) {{\n",
       "    x.observe(notebookContainer, {childList: true});\n",
       "}}\n",
       "\n",
       "// Listen for the clearing of the current output cell\n",
       "var outputEl = gd.closest('.output');\n",
       "if (outputEl) {{\n",
       "    x.observe(outputEl, {childList: true});\n",
       "}}\n",
       "\n",
       "                        })\n",
       "                };\n",
       "                });\n",
       "            </script>\n",
       "        </div>"
      ]
     },
     "metadata": {},
     "output_type": "display_data"
    }
   ],
   "source": [
    "import plotly.graph_objects as go\n",
    "import plotly.io as pio\n",
    "\n",
    "\n",
    "\n",
    "categories =  [col for col in merged.columns if not col=='Borough']\n",
    "categories = ['Rent',\n",
    " 'Dist. from Subway',\n",
    " 'Safety',\n",
    " 'Dist. from Midtown',\n",
    " 'Venue density']\n",
    "fig = go.Figure()\n",
    "\n",
    "for idx, val in radar_data_pareto.iterrows():\n",
    "\n",
    "    fig.add_trace(go.Scatterpolar(\n",
    "          r=val.tolist() + [val.tolist()[0]],\n",
    "          theta=categories + [categories[0]],\n",
    "          fill='none',\n",
    "          name=idx,\n",
    "          hoverinfo='none'\n",
    "    ))\n",
    "\n",
    "# for idx, val in radar_data_pareto.iterrows():\n",
    "#     fig.add_trace(go.Scatterpolar(\n",
    "#           r=val,\n",
    "#           theta=categories,\n",
    "# #           fill='toself',\n",
    "#           name=idx,\n",
    "#           line=dict(dash='dash')\n",
    "#     ))\n",
    "    \n",
    "fig.update_layout(\n",
    "  polar=dict(\n",
    "    bgcolor= '#cfcfcf',\n",
    "    radialaxis=dict(\n",
    "      visible=True,\n",
    "      range=[0, 1],\n",
    "      tickvals=[]\n",
    "      \n",
    "    )),\n",
    "      paper_bgcolor= '#f0f0f0',\n",
    "    xaxis = dict(gridcolor='#cfcfcf'),\n",
    "    yaxis = dict(gridcolor='#cfcfcf'),\n",
    "    \n",
    "    height=300,\n",
    "    width=600,\n",
    "    margin=dict(r=0, l=0, b=10, t=10),\n",
    "  showlegend=True\n",
    ")\n",
    "# fig.write_html('fig/pareto_radial.html')\n",
    "pio.write_html(fig, file='../../semodi.github.io/_includes/pareto_radial_test.html',include_mathjax=False, include_plotlyjs='cdn')\n",
    "\n",
    "fig.show()"
   ]
  },
  {
   "cell_type": "code",
   "execution_count": 27,
   "metadata": {},
   "outputs": [],
   "source": [
    "import numpy as np "
   ]
  },
  {
   "cell_type": "code",
   "execution_count": 28,
   "metadata": {},
   "outputs": [],
   "source": [
    "r = np.random.rand(200)\n",
    "theta = np.random.rand(200)*2*np.pi"
   ]
  },
  {
   "cell_type": "code",
   "execution_count": 29,
   "metadata": {},
   "outputs": [],
   "source": [
    "x = r*np.sin(theta)+1\n",
    "y = r*np.cos(theta)+1"
   ]
  },
  {
   "cell_type": "code",
   "execution_count": 30,
   "metadata": {},
   "outputs": [
    {
     "data": {
      "text/plain": [
       "(2, 200)"
      ]
     },
     "execution_count": 30,
     "metadata": {},
     "output_type": "execute_result"
    }
   ],
   "source": [
    "np.stack([x,y]).shape"
   ]
  },
  {
   "cell_type": "code",
   "execution_count": 31,
   "metadata": {},
   "outputs": [],
   "source": [
    "pe = is_pareto_efficient(np.stack([x,y]).T)"
   ]
  },
  {
   "cell_type": "code",
   "execution_count": 32,
   "metadata": {},
   "outputs": [],
   "source": [
    "x_pe = x[pe]\n",
    "y_pe = y[pe]"
   ]
  },
  {
   "cell_type": "code",
   "execution_count": 33,
   "metadata": {},
   "outputs": [],
   "source": [
    "order = np.argsort(x_pe)\n",
    "x_pe = x_pe[order]\n",
    "y_pe = y_pe[order]"
   ]
  },
  {
   "cell_type": "code",
   "execution_count": 76,
   "metadata": {},
   "outputs": [
    {
     "data": {
      "image/png": "[encoded data removed]",
      "text/plain": [
       "<Figure size 432x288 with 1 Axes>"
      ]
     },
     "metadata": {},
     "output_type": "display_data"
    }
   ],
   "source": [
    "plot(x,y,ls ='',marker='o',label='Non-PE')\n",
    "plot(x[pe],y[pe],ls ='',marker='o',label='PE')\n",
    "plot(x_pe,y_pe,ls ='--',marker='',label='Pareto Frontier',color='C1',lw=2.5)\n",
    "xlabel('Cost 1')\n",
    "ylabel('Cost 2')\n",
    "legend()\n",
    "savefig('pareto_example.pdf',bbox_inches='tight')\n",
    "# savefig('pareto_example.png',bbox_inches='tight')"
   ]
  },
  {
   "cell_type": "code",
   "execution_count": null,
   "metadata": {},
   "outputs": [],
   "source": []
  }
 ],
 "metadata": {
  "kernelspec": {
   "display_name": "Python 3",
   "language": "python",
   "name": "python3"
  },
  "language_info": {
   "codemirror_mode": {
    "name": "ipython",
    "version": 3
   },
   "file_extension": ".py",
   "mimetype": "text/x-python",
   "name": "python",
   "nbconvert_exporter": "python",
   "pygments_lexer": "ipython3",
   "version": "3.8.2"
  }
 },
 "nbformat": 4,
 "nbformat_minor": 4
}
