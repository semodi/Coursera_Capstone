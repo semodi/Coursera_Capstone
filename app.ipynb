{
 "cells": [
  {
   "cell_type": "code",
   "execution_count": 1,
   "metadata": {},
   "outputs": [],
   "source": [
    "import dash\n",
    "import dash_html_components as html\n",
    "import dash_core_components as dcc\n",
    "from dash.dependencies import Input, Output\n",
    "import pandas as pd\n",
    "import numpy as np\n",
    "import plotly.graph_objects as go"
   ]
  },
  {
   "cell_type": "code",
   "execution_count": 2,
   "metadata": {},
   "outputs": [],
   "source": [
    "data = pd.read_csv('normalized_data.csv').set_index('Neighborhood')\n",
    "data_merged = pd.read_csv('merged.csv').set_index('Neighborhood')\n",
    "\n",
    "\n",
    "data_merged['Venue density'] = data_merged['Venue density'].max() - data_merged['Venue density']"
   ]
  },
  {
   "cell_type": "code",
   "execution_count": 3,
   "metadata": {},
   "outputs": [],
   "source": [
    "def is_pareto_efficient(costs):\n",
    "    is_efficient = np.ones(costs.shape[0], dtype = bool)\n",
    "    for i, c in enumerate(costs):\n",
    "        is_efficient[i] = np.all(np.any(costs[:i]>c, axis=1)) and np.all(np.any(costs[i+1:]>c, axis=1))\n",
    "    return is_efficient\n",
    "\n",
    "def find_better(data, neighborhood,return_idx = False):\n",
    "    costs = 1 - data.iloc[:,1:].fillna(0)\n",
    "    n_cost = costs.loc[neighborhood]\n",
    "    costs = costs.values\n",
    "    n_cost = n_cost.values\n",
    "    \n",
    "    better = (np.any(costs < n_cost,axis=1) &  ~np.any(costs > n_cost, axis = 1)  )\n",
    "    if return_idx:\n",
    "        return data.loc[better].index\n",
    "    return data.loc[better]"
   ]
  },
  {
   "cell_type": "code",
   "execution_count": 4,
   "metadata": {},
   "outputs": [],
   "source": [
    "data['pe'] = is_pareto_efficient(1 - data.iloc[:,1:].fillna(0).values)"
   ]
  },
  {
   "cell_type": "code",
   "execution_count": 6,
   "metadata": {},
   "outputs": [],
   "source": [
    "costs = ['Rent','Subway distance','Crime','Midtown distance','Venue density']"
   ]
  },
  {
   "cell_type": "code",
   "execution_count": 8,
   "metadata": {},
   "outputs": [],
   "source": [
    "THETA = np.linspace(0,1,len(data.loc[data.pe]))*2*np.pi\n",
    "np.random.shuffle(THETA)"
   ]
  },
  {
   "cell_type": "code",
   "execution_count": null,
   "metadata": {},
   "outputs": [
    {
     "name": "stdout",
     "output_type": "stream",
     "text": [
      "Running on http://127.0.0.1:8050/\n",
      "Debugger PIN: 873-323-780\n",
      " * Serving Flask app \"__main__\" (lazy loading)\n",
      " * Environment: production\n",
      "\u001b[31m   WARNING: This is a development server. Do not use it in a production deployment.\u001b[0m\n",
      "\u001b[2m   Use a production WSGI server instead.\u001b[0m\n",
      " * Debug mode: on\n"
     ]
    }
   ],
   "source": [
    "external_stylesheets = ['https://codepen.io/chriddyp/pen/bWLwgP.css']\n",
    "\n",
    "app = dash.Dash(__name__, external_stylesheets=external_stylesheets)\n",
    "# app = dash.Dash(__name__)\n",
    "\n",
    "app.layout = \\\n",
    "        html.Div([\n",
    "            html.Div([\n",
    "            html.Label('I would like to move to '),\n",
    "            dcc.Input(\n",
    "            id=\"input_neighborhood\",\n",
    "            type=\"text\",\n",
    "            placeholder=\"Neighborhood\"),\n",
    "            dcc.Markdown(children='', id='out_label'),\n",
    "            dcc.Markdown(children='', id='out_neighbor')\n",
    "            ],style={'overflowY': 'scroll', 'height': 300,'width':1100}),\n",
    "            html.Div([\n",
    "                dcc.Graph(id='graph-trend')\n",
    "            ],style={ 'height': 400,'width':400,'float':'left'}\n",
    "            ),\n",
    "            html.Div(\n",
    "                [html.Label('Choose your priorities:')] +\\\n",
    "                [e for el in [\n",
    "                (html.Label(i),\n",
    "                dcc.Slider(\n",
    "                id='slider_{}'.format(i),\n",
    "                min=0,\n",
    "                max=1,\n",
    "                step=0.01,\n",
    "                value=0.5,\n",
    "                )) for i in costs] for e in el]\n",
    "                ,style={ 'height': 250,'width':300,'float':'left'}),\n",
    "           \n",
    "        ],\n",
    "       )\n",
    "\n",
    "@app.callback(\n",
    "    [Output('out_label','children'),\n",
    "     Output('out_neighbor','children'),\n",
    "     Output('graph-trend','figure')],\n",
    "    [Input('input_neighborhood', 'value')] + [Input('slider_{}'.format(i),'value') for i in costs])\n",
    "def update_trend_figure(neighborhood,sli_rent, sli_subway, sli_crime, sli_midtown,sli_venue):\n",
    "    \n",
    "    traces = []\n",
    "    \n",
    "    data_pe = data.loc[data['pe']].iloc[:,1:-1]\n",
    "    data_pe *= [sli_rent, sli_subway, sli_crime, sli_midtown, sli_venue]\n",
    "    cost = np.linalg.norm(data_pe.fillna(0).values, axis=1)\n",
    "    cost = (cost-np.min(cost))/(np.max(cost)-np.min(cost))\n",
    "    cost_idx = np.argsort(cost)\n",
    "    borough = data.loc[data_pe.iloc[cost_idx].index].Borough\n",
    "    neigh = data_pe.iloc[cost_idx].index\n",
    "    cost = np.sort(cost)\n",
    "    r = (1.05 - cost)**(1/(1.7))\n",
    "    theta = THETA[cost_idx]\n",
    "#     np.random.shuffle(theta)\n",
    "    x = np.cos(theta)*r\n",
    "    y = np.sin(theta)*r\n",
    "    \n",
    "    borough_color = [{'Bronx':'blue','Queens':'red','Manhattan':'green','Brooklyn':'orange'}[b] for b in borough]\n",
    "    \n",
    "    traces.append(go.Scatter(x= x,y=y, mode='markers', name='',\n",
    "                             hovertemplate =\\\n",
    "                                '<b>%{text}</b>',\n",
    "                             text = ['{}, {}'.format(n,b) for n,b in zip(neigh,borough)],\n",
    "                             \n",
    "                            marker=dict(\n",
    "                                color=borough_color,\n",
    "                                size=np.exp(cost*3.7),\n",
    "                                opacity= cost,\n",
    "                                line=dict(\n",
    "                                    color='black',\n",
    "                                    width=2\n",
    "                                    )\n",
    "                            )\n",
    "                            )\n",
    "                 )\n",
    "         \n",
    "    returns = []\n",
    "    if neighborhood in data.index:\n",
    "        if data.loc[neighborhood,'pe']:\n",
    "            returns += ['Good choice!',data_merged.loc[[neighborhood]].to_markdown()]\n",
    "        else:\n",
    "            \n",
    "            md_list =''''''\n",
    "            \n",
    "            for b in find_better(data, neighborhood).index:\n",
    "                md_list += '* ' + str(b) +'''\n",
    "'''\n",
    "            \n",
    "            returns += ['''Hmmm, this neighborhood is not Pareto efficient. Have you considered the following neighborhoods?''',\n",
    "                    data_merged.loc[[neighborhood] + list(find_better(data, neighborhood,return_idx=True))].to_markdown()]\n",
    "    else:\n",
    "        returns += ['','']\n",
    "    returns += [{'data': traces,\n",
    "                 'layout':{\n",
    "                'hovermode': 'closest',\n",
    "                'transition' :{'duration': 200,\n",
    "                              'animation':'cubic-in-out'},\n",
    "                'margin' : {'l':0, 'b': 0, 't': 0, 'r': 0}}}]\n",
    "                  \n",
    "    return returns \n",
    "app.run_server(debug=True, use_reloader=False)"
   ]
  },
  {
   "cell_type": "code",
   "execution_count": null,
   "metadata": {},
   "outputs": [],
   "source": []
  },
  {
   "cell_type": "code",
   "execution_count": null,
   "metadata": {},
   "outputs": [],
   "source": []
  }
 ],
 "metadata": {
  "kernelspec": {
   "display_name": "Python 3",
   "language": "python",
   "name": "python3"
  },
  "language_info": {
   "codemirror_mode": {
    "name": "ipython",
    "version": 3
   },
   "file_extension": ".py",
   "mimetype": "text/x-python",
   "name": "python",
   "nbconvert_exporter": "python",
   "pygments_lexer": "ipython3",
   "version": "3.8.2"
  }
 },
 "nbformat": 4,
 "nbformat_minor": 4
}
